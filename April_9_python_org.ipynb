{
 "cells": [
  {
   "cell_type": "code",
   "execution_count": 2,
   "metadata": {},
   "outputs": [
    {
     "name": "stdout",
     "output_type": "stream",
     "text": [
      "Hello there this is april 9\n"
     ]
    }
   ],
   "source": [
    "print(\"Hello there this is april 9\")"
   ]
  },
  {
   "cell_type": "code",
   "execution_count": 6,
   "metadata": {
    "scrolled": true
   },
   "outputs": [
    {
     "name": "stdout",
     "output_type": "stream",
     "text": [
      "Even number :  2\n",
      "Odd number :  3\n",
      "Even number :  4\n",
      "Odd number :  5\n",
      "Even number :  6\n",
      "Odd number :  7\n",
      "Even number :  8\n",
      "Odd number :  9\n"
     ]
    }
   ],
   "source": [
    "for num in range(2,10):\n",
    "    if num%2==0:\n",
    "        print(\"Even number : \",num)\n",
    "        continue\n",
    "    \n",
    "    print(\"Odd number : \",num)"
   ]
  },
  {
   "cell_type": "code",
   "execution_count": 12,
   "metadata": {},
   "outputs": [
    {
     "name": "stdout",
     "output_type": "stream",
     "text": [
      "2\n"
     ]
    }
   ],
   "source": [
    "def functionn():\n",
    "    for i in range(2,10):\n",
    "        return i\n",
    "        continue\n",
    "    \n",
    "print(functionn())"
   ]
  },
  {
   "cell_type": "code",
   "execution_count": null,
   "metadata": {},
   "outputs": [],
   "source": []
  }
 ],
 "metadata": {
  "kernelspec": {
   "display_name": "Python 3",
   "language": "python",
   "name": "python3"
  },
  "language_info": {
   "codemirror_mode": {
    "name": "ipython",
    "version": 3
   },
   "file_extension": ".py",
   "mimetype": "text/x-python",
   "name": "python",
   "nbconvert_exporter": "python",
   "pygments_lexer": "ipython3",
   "version": "3.7.1"
  }
 },
 "nbformat": 4,
 "nbformat_minor": 2
}
