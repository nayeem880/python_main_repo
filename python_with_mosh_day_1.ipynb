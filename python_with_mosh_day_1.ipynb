{
 "cells": [
  {
   "cell_type": "code",
   "execution_count": 1,
   "metadata": {},
   "outputs": [
    {
     "name": "stdout",
     "output_type": "stream",
     "text": [
      "Programming in python with mosh\n"
     ]
    }
   ],
   "source": [
    "print(\"Programming in python with mosh\")\n"
   ]
  },
  {
   "cell_type": "code",
   "execution_count": 2,
   "metadata": {},
   "outputs": [
    {
     "name": "stdout",
     "output_type": "stream",
     "text": [
      "Price :  10\n",
      "Price 1 is :  30\n",
      "Rating :  30\n",
      "Price :  10\n",
      "Price 1 is :  30\n",
      "Rating :  30\n"
     ]
    }
   ],
   "source": [
    "price = 10\n",
    "price1=30\n",
    "rating=4.8\n",
    "print('Price : ',price)\n",
    "print('Price 1 is : ',price1)\n",
    "print('Rating : ',price1)"
   ]
  },
  {
   "cell_type": "code",
   "execution_count": 3,
   "metadata": {},
   "outputs": [
    {
     "name": "stdout",
     "output_type": "stream",
     "text": [
      "Enter your Birth Year :1997\n",
      "You are :  22 years old and i see ! You are 18+ LOL\n",
      "You are :  22 years old and i see ! You are 18+ LOL\n"
     ]
    }
   ],
   "source": [
    "birth_year=int(input(\"Enter your Birth Year :\"))\n",
    "age=2019-birth_year\n",
    "\n",
    "if age>=18:\n",
    "    print(\"You are : \",age,\"years old and i see ! You are 18+ LOL\")\n",
    "else:\n",
    "    print(\"You are : \",age,\" and you are a juvenile :) \")"
   ]
  },
  {
   "cell_type": "code",
   "execution_count": 4,
   "metadata": {},
   "outputs": [
    {
     "name": "stdout",
     "output_type": "stream",
     "text": [
      "Enter your weight in pounds : 558\n",
      "Your weight in KG is :  251.1\n",
      "Your weight in KG is :  251.1\n"
     ]
    }
   ],
   "source": [
    "weight_in_lbs=float(input(\"Enter your weight in pounds : \"))\n",
    "weight_in_kg=weight_in_lbs*0.45\n",
    "print(\"Your weight in KG is : \",weight_in_kg)"
   ]
  },
  {
   "cell_type": "code",
   "execution_count": 5,
   "metadata": {},
   "outputs": [
    {
     "name": "stdout",
     "output_type": "stream",
     "text": [
      "python for beginners and novice programmers.\n",
      "But don't afraid,python is fun !\n",
      "python for beginners and novice programmers.\n",
      "But don't afraid,python is fun !\n"
     ]
    }
   ],
   "source": [
    "course=\"python for beginners\" ' and novice programmers.''\\nBut don\\'t afraid,python is fun !'\n",
    "print(course)"
   ]
  },
  {
   "cell_type": "code",
   "execution_count": 6,
   "metadata": {},
   "outputs": [
    {
     "name": "stdout",
     "output_type": "stream",
     "text": [
      "Python for beginners\n",
      "novice\n",
      "intermediate\n",
      "advance\n",
      "excellent\n",
      "and professional developers\n",
      "\n",
      "Cheers and don't afraid.Python is fun !\n",
      "\n",
      "Python for beginners\n",
      "novice\n",
      "intermediate\n",
      "advance\n",
      "excellent\n",
      "and professional developers\n",
      "\n",
      "Cheers and don't afraid.Python is fun !\n",
      "\n"
     ]
    }
   ],
   "source": [
    "print('''Python for beginners\n",
    "novice\n",
    "intermediate\n",
    "advance\n",
    "excellent\n",
    "and professional developers\n",
    "\n",
    "Cheers and don't afraid.Python is fun !\n",
    "''')"
   ]
  },
  {
   "cell_type": "code",
   "execution_count": 7,
   "metadata": {},
   "outputs": [
    {
     "name": "stdout",
     "output_type": "stream",
     "text": [
      "EGINNERS\n",
      "NOVICE\n",
      "IN \n",
      "\n",
      "\n",
      "Words from index 30 to end ---\n",
      "\n",
      "\n",
      " intermediate\n",
      "advance\n",
      "excellent\n",
      "and professional developers\n",
      "\n",
      "cheers and don't afraid.python is fun !\n",
      "\n",
      "\n",
      "\n",
      "EGINNERS\n",
      "NOVICE\n",
      "IN \n",
      "\n",
      "\n",
      "Words from index 30 to end ---\n",
      "\n",
      "\n",
      " intermediate\n",
      "advance\n",
      "excellent\n",
      "and professional developers\n",
      "\n",
      "cheers and don't afraid.python is fun !\n",
      "\n",
      "\n",
      "\n"
     ]
    }
   ],
   "source": [
    "course = '''python for beginners\n",
    "novice\n",
    "intermediate\n",
    "advance\n",
    "excellent\n",
    "and professional developers\n",
    "\n",
    "Cheers and don't afraid.Python is fun !\n",
    "\n",
    "\n",
    "'''\n",
    "print(course[12:30].upper(),\"\\n\\n\\nWords from index 30 to end ---\\n\\n\\n\",course[28:].lower())"
   ]
  },
  {
   "cell_type": "code",
   "execution_count": 8,
   "metadata": {},
   "outputs": [
    {
     "name": "stdout",
     "output_type": "stream",
     "text": [
      "Mahmudul Hasan Nayeem is a Programmer and AI Developer\n",
      "Mahmudul Hasan Nayeem is a Programmer and AI Developer\n"
     ]
    }
   ],
   "source": [
    "first='Mahmudul '\n",
    "second='Hasan'\n",
    "third=\"Nayeem\"\n",
    "\n",
    "print(f'{first}{second} {third} is a Programmer and AI Developer')"
   ]
  },
  {
   "cell_type": "code",
   "execution_count": 9,
   "metadata": {},
   "outputs": [
    {
     "name": "stdout",
     "output_type": "stream",
     "text": [
      "64\n",
      "professional\n",
      "\n",
      "python for Starters\n",
      "novice\n",
      "intermediate\n",
      "advance\n",
      "excellent\n",
      "and professional developers\n",
      "\n",
      "Cheers and don't afraid.Python is fun !\n",
      "\n",
      "\n",
      "64\n",
      "professional\n",
      "\n",
      "python for Starters\n",
      "novice\n",
      "intermediate\n",
      "advance\n",
      "excellent\n",
      "and professional developers\n",
      "\n",
      "Cheers and don't afraid.Python is fun !\n",
      "\n",
      "\n"
     ]
    }
   ],
   "source": [
    "course = '''\n",
    "python for beginners\n",
    "novice\n",
    "intermediate\n",
    "advance\n",
    "excellent\n",
    "and professional developers\n",
    "\n",
    "Cheers and don't afraid.Python is fun !\n",
    "\n",
    "'''\n",
    "print(course.find('professional'))\n",
    "print(course[64:76])\n",
    "print(course.replace('beginners','Starters'))\n",
    "#print(course.title())"
   ]
  },
  {
   "cell_type": "code",
   "execution_count": null,
   "metadata": {},
   "outputs": [],
   "source": [
    "print(40%4**2)\n",
    "\n",
    "#exponentiation\n",
    "#modulus\n",
    "#division\n",
    "#multiplication\n",
    "#subtraction\n",
    "#addition\n",
    "\n",
    "print(40%9/4*8)"
   ]
  },
  {
   "cell_type": "code",
   "execution_count": null,
   "metadata": {},
   "outputs": [],
   "source": [
    "#python math functions\n",
    "#see from docs.python.org\n"
   ]
  },
  {
   "cell_type": "code",
   "execution_count": null,
   "metadata": {},
   "outputs": [
    {
     "name": "stdout",
     "output_type": "stream",
     "text": [
      "Input any EVEN_Number if it is 'HOT' day and ODD_Number if it is 'COLD'12\n",
      "WEAR SIMPLE DRESSES CAUSE IT'S HOT OTHER THERE \n",
      "WEAR SIMPLE DRESSES CAUSE IT'S HOT OTHER THERE \n"
     ]
    }
   ],
   "source": [
    "#if statements in python\n",
    "\n",
    "num=int(input(\"Input any EVEN_Number if it is 'HOT' day and ODD_Number if it is 'COLD'\"))\n",
    "\n",
    "if num%2 == 1 :\n",
    "    is_cold=True\n",
    "    if is_cold:\n",
    "        print(\"Wear Warm cloths before going out \".upper())\n",
    "\n",
    "else :\n",
    "    is_cold=False\n",
    "    if is_cold==False:\n",
    "        print(\"Wear simple dresses cause it's hot other there \".upper())\n"
   ]
  },
  {
   "cell_type": "code",
   "execution_count": null,
   "metadata": {},
   "outputs": [
    {
     "name": "stdout",
     "output_type": "stream",
     "text": [
      "Enter your monthly income : 35000\n"
     ]
    }
   ],
   "source": [
    "income=float(input(\"Enter your monthly income : \"))\n",
    "credit=float(input(\"Enter your credit here : \"))\n",
    "if income<30000 or credit<100000:\n",
    "    print(\"You are not eligible for any kind of Loan from this Bank.\\nSORRY ! Couldn't help you in your hard times :(\" )\n",
    "elif income>=30000 or credit>=100000:\n",
    "    print(\"You are eligible for loan of maximum amount : $\"+str((income*.25)+(credit*.5)))\n",
    "else:\n",
    "    print(\"Not sure,Consult a bank officer to get appropriate assistance\")"
   ]
  },
  {
   "cell_type": "code",
   "execution_count": null,
   "metadata": {},
   "outputs": [],
   "source": [
    "x=int(input(\"Enter your number : \"))\n",
    "if x<3:\n",
    "    print(\"x is less than 3\")\n",
    "elif x>=3 or x<=10:\n",
    "    print(\"x is inside 3 and 10\")\n",
    "else:\n",
    "    print(\"x is grater than 10\")"
   ]
  },
  {
   "cell_type": "code",
   "execution_count": null,
   "metadata": {},
   "outputs": [],
   "source": [
    "fah=float(input(\"Enter your temperature in fahrenheit and get all details : \"))\n",
    "celcius=float((fah-32)*5/9)\n",
    "print(\"Temperature in celcius is : \",celcius)\n",
    "\n",
    "if celcius<-5 :\n",
    "    print(\"Ice Cold\")\n",
    "elif celcius <10 and celcius>-5:\n",
    "    print(\"It is cold day\")\n",
    "elif celcius>=10 and celcius<=15:\n",
    "    print(\"Mild cold day\")\n",
    "elif celcius>15 and celcius<=25:\n",
    "    print(\"Warm day\")\n",
    "else:\n",
    "    print(\"Hell yeah,Hot day\")"
   ]
  },
  {
   "cell_type": "code",
   "execution_count": null,
   "metadata": {},
   "outputs": [],
   "source": [
    "name=str(input(\"Enter your name : \"))\n",
    "if len(name)<3 :\n",
    "    print(\"Please input any name greater than three character : \",name)\n",
    "elif len(name)>20:\n",
    "    print(\"Very big name.Input a shorter concise name : \",name)\n",
    "elif len(name)>3 and len(name)<20:\n",
    "    print(\"Pretty good name : \",name)"
   ]
  },
  {
   "cell_type": "code",
   "execution_count": null,
   "metadata": {},
   "outputs": [],
   "source": [
    "#while loops in python\n",
    "\n",
    "i=int(input(\"Enter the value of i : \"))\n",
    "while i<=10:\n",
    "    print(\"*\"*i)\n",
    "    i=i+1\n",
    "print(\"Done\")\n",
    "    "
   ]
  },
  {
   "cell_type": "code",
   "execution_count": null,
   "metadata": {},
   "outputs": [],
   "source": [
    "secret_number=5\n",
    "i=0\n",
    "while i<3:\n",
    "    guess=int(input(\"Guess a secret number inside 1 to 10 : \"))\n",
    "    if guess==secret_number:\n",
    "        print(\"Correct,the secret number is : \",secret_number)\n",
    "        break\n",
    "    else:\n",
    "        print(\"Wrong number hehehe.....Try again wink wink\\n\")\n",
    "    i=i+1\n",
    "    \n",
    "print(\"\\n\\n\")\n",
    "if guess!=secret_number:\n",
    "    print(\"You have reached the limit of 3 try and You lost vruuuu :p\")\n",
    "elif i==0 and i<3:\n",
    "    print(\"Excellent, You won in 1st attempt\")\n",
    "elif i==1:\n",
    "    print(\"Clever, You won in 2nd attempt ;)\")\n",
    "else:\n",
    "    print(\"Good, You won in 3rd attempt ;)\")\n",
    "\n"
   ]
  },
  {
   "cell_type": "code",
   "execution_count": null,
   "metadata": {},
   "outputs": [],
   "source": [
    "weight=int(input(\"Enter the weight : \"))\n",
    "unit=input(\"Enter the unit(l for lbs or k for kg) : \")\n",
    "\n",
    "if unit.lower()== \"l\" or unit.lower()==\"lbs\" or unit.lower()==\"pound\" or unit.lower()=='p' or unit.lower()=='po' or unit.lower()=='pou' or unit.lower()=='lb' or unit.lower()=='poun':\n",
    "    print(\"Weight in pound is : \"+str(weight/.45))\n",
    "elif unit.lower()== 'k' or unit.lower()=='kg' or unit.lower()=='kilo' or unit.lower()=='kilogram' or unit.lower()=='ki' or unit.lower()=='kil' or unit.lower()=='kilog' or unit.lower()=='kilogr' or unit.lower()=='kilogra':\n",
    "    print(\"Weight in Kilogram is : \"+str(weight*.45))\n",
    "else:\n",
    "    print(\"Invalid Unit\")"
   ]
  },
  {
   "cell_type": "code",
   "execution_count": null,
   "metadata": {},
   "outputs": [
    {
     "name": "stdout",
     "output_type": "stream",
     "text": [
      "Quit Program?? (Yes/No): no\n",
      "Command for your Car (Start/Stop/Help) : help\n",
      "Good choice.Ask help only stopping the car while in highway ;)\n",
      "                  >>> Help\n",
      "                  1.Start - car started\n",
      "                  2.Stop - car stopped\n",
      "                  3.Quit - quit the program \n",
      "                  4.Help - to get help again\n",
      "\n",
      "Good choice.Ask help only stopping the car while in highway ;)\n",
      "                  >>> Help\n",
      "                  1.Start - car started\n",
      "                  2.Stop - car stopped\n",
      "                  3.Quit - quit the program \n",
      "                  4.Help - to get help again\n",
      "\n",
      "Enter a command after seeing help (Start/Stop/Help/quit) : k\n",
      "Invalid input in help_command\n",
      "Invalid input in help_command\n",
      "Command for your Car (Start/Stop/Help) : start\n",
      "Car was in stopped mode.Now it is starting\n",
      "Car was in stopped mode.Now it is starting\n"
     ]
    }
   ],
   "source": [
    "command_main=input(\"Quit Program?? (Yes/No): \").lower()\n",
    "started=False\n",
    "\n",
    "while command_main == 'no':\n",
    "    command= input(\"Command for your Car (Start/Stop/Help) : \").lower()\n",
    "    if command=='start':\n",
    "        if started==False:\n",
    "            print(\"Car was in stopped mode.Now it is starting\")\n",
    "            started=True\n",
    "        elif started==True:\n",
    "            print(\">>> Car already is running.Choose appropriate command\")\n",
    "            started=True\n",
    "    elif command=='stop':\n",
    "        if started==True:\n",
    "            print(\">>> Car stopped\")\n",
    "        elif started==False:\n",
    "            print(\"Car alredy in stop mood\")\n",
    "        started=False\n",
    "    elif command=='help':\n",
    "        if started==True:\n",
    "            print(\"\"\"Bad choice man ! You are asking help while driving :/ Vruuu :/ Stop the car to nearest filling station and then see the help menu : \\n\n",
    "        \n",
    "                 >>> Help\n",
    "                 1.Start - car started\n",
    "                 2.Stop - car stopped\n",
    "                 3.Quit - quit the program \n",
    "                 4.Help - to get help again\\n\"\"\")\n",
    "            \n",
    "        elif started==False:\n",
    "            print(\"\"\"Good choice.Ask help only stopping the car while in highway ;)\n",
    "                  >>> Help\n",
    "                  1.Start - car started\n",
    "                  2.Stop - car stopped\n",
    "                  3.Quit - quit the program \n",
    "                  4.Help - to get help again\\n\"\"\")\n",
    "       \n",
    "        in_command= input(\"Enter a command after seeing help (Start/Stop/Help/quit) : \").lower()\n",
    "        if in_command =='quit':\n",
    "            print(\"Program terminating in innner command\")\n",
    "            break\n",
    "        elif in_command == \"start\":\n",
    "            if started==True:\n",
    "                print(\"Car is already been started.Try different command\")\n",
    "                continue\n",
    "            elif started ==\"False\":\n",
    "                print(\"Car was stopped.Now starting\")\n",
    "                \n",
    "            continue\n",
    "        elif in_command == \"stop\":\n",
    "            if started==False:\n",
    "                print(\"car is already stopped.Try start the car or seek help\")\n",
    "                continue\n",
    "            elif started ==\"True\":\n",
    "                print(\"Car was started.Now Stopping\")\n",
    "                print(\"Car stopped\")\n",
    "                \n",
    "            continue\n",
    "            \n",
    "        elif in_command=='help':\n",
    "            if started==True:\n",
    "                print(\"\"\"Help Again\\nBad choice man ! You are asking help while driving :/ Vruuu :/ Stop the car to nearest filling station and then see the help menu : \\n\n",
    "        \n",
    "                 >>> Help\n",
    "                 1.Start - car started\n",
    "                 2.Stop - car stopped\n",
    "                 3.Quit - quit the program \n",
    "                 4.Help - to get help again\\n\"\"\")\n",
    "                \n",
    "            \n",
    "            elif started==False:\n",
    "                print(\"\"\"Help Again\\nGood choice.Ask help only stopping the car while in highway ;)\n",
    "                  >>> Help\n",
    "                  1.Start - car started\n",
    "                  2.Stop - car stopped\n",
    "                  3.Quit - quit the program \n",
    "                  4.Help - to get help again\\n\"\"\")\n",
    "            continue\n",
    "            \n",
    "        else:\n",
    "            print('Invalid input in help_command')\n",
    "            continue\n",
    "\n",
    "    elif command =='quit':\n",
    "        print(\"Program terminating\")\n",
    "        break\n",
    "    else :\n",
    "        print('Invalid command in main command')\n",
    "        continue\n",
    "        \n",
    "while command_main == 'yes':\n",
    "    print(\">>> program terminated\")\n",
    "    break1\n",
    "    "
   ]
  },
  {
   "cell_type": "code",
   "execution_count": null,
   "metadata": {},
   "outputs": [],
   "source": []
  },
  {
   "cell_type": "code",
   "execution_count": null,
   "metadata": {},
   "outputs": [],
   "source": []
  },
  {
   "cell_type": "code",
   "execution_count": null,
   "metadata": {},
   "outputs": [],
   "source": []
  },
  {
   "cell_type": "code",
   "execution_count": null,
   "metadata": {},
   "outputs": [],
   "source": []
  }
 ],
 "metadata": {
  "kernelspec": {
   "display_name": "Python 3",
   "language": "python",
   "name": "python3"
  },
  "language_info": {
   "codemirror_mode": {
    "name": "ipython",
    "version": 3
   },
   "file_extension": ".py",
   "mimetype": "text/x-python",
   "name": "python",
   "nbconvert_exporter": "python",
   "pygments_lexer": "ipython3",
   "version": "3.7.1"
  }
 },
 "nbformat": 4,
 "nbformat_minor": 2
}
