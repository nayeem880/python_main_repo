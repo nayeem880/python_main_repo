{
 "cells": [
  {
   "cell_type": "code",
   "execution_count": 1,
   "metadata": {},
   "outputs": [
    {
     "data": {
      "text/plain": [
       "'This is multiline comment\\nto decribe a full details of multiline description'"
      ]
     },
     "execution_count": 1,
     "metadata": {},
     "output_type": "execute_result"
    }
   ],
   "source": [
    "#thsi is first line comment\n",
    "sperm=3 #second single line comment\n",
    "\"\"\"This is multiline comment\n",
    "to decribe a full details of multiline description\"\"\""
   ]
  },
  {
   "cell_type": "code",
   "execution_count": 5,
   "metadata": {},
   "outputs": [
    {
     "name": "stdout",
     "output_type": "stream",
     "text": [
      "57\n",
      "43\n",
      "350\n",
      "7.142857142857143\n"
     ]
    }
   ],
   "source": [
    "#division always returns a floating point numbers\n",
    "\n",
    "num=50\n",
    "num1=7\n",
    "sum=num+num1\n",
    "print(sum)\n",
    "subtraction=num-num1\n",
    "print(subtraction)\n",
    "multiplication=num*num1\n",
    "print(multiplication)\n",
    "division=num/num1\n",
    "print(division) #always gives a floating point number in division\n",
    "\n"
   ]
  },
  {
   "cell_type": "code",
   "execution_count": 15,
   "metadata": {},
   "outputs": [
    {
     "name": "stdout",
     "output_type": "stream",
     "text": [
      "7\n",
      "Modulus of 66%8 is : 2\n"
     ]
    }
   ],
   "source": [
    "#floating division\n",
    "num=55//7 #floating division always ignores the fractional \n",
    "#numbers and print only full form of the numbers(int)\n",
    "print(num)\n",
    "\n",
    "nm= 66%8\n",
    "print(\"Modulus of 66%8 is : \"+str(nm))\n"
   ]
  },
  {
   "cell_type": "code",
   "execution_count": 8,
   "metadata": {},
   "outputs": [
    {
     "name": "stdout",
     "output_type": "stream",
     "text": [
      "Hello there \n",
      "i am nayeem\n"
     ]
    }
   ],
   "source": [
    "n= \"Hello there \\ni am nayeem\"\n",
    "n ## without print( ) this will print like this - 'Hello there \\n i am nayeem'\n",
    "print(n) #with print() this will print a new line "
   ]
  },
  {
   "cell_type": "code",
   "execution_count": 10,
   "metadata": {},
   "outputs": [
    {
     "name": "stdout",
     "output_type": "stream",
     "text": [
      "C:\\some\n",
      "ame\n",
      "C:\\some\\name\n"
     ]
    }
   ],
   "source": [
    "##raw strings\n",
    "print(\"C:\\some\\name\") #here \\n will create a new line\n",
    "#toprevent this new line we have to include 'r'at the beginning of the print quote\n",
    "print(r\"C:\\some\\name\")"
   ]
  },
  {
   "cell_type": "code",
   "execution_count": 24,
   "metadata": {},
   "outputs": [
    {
     "name": "stdout",
     "output_type": "stream",
     "text": [
      "hello \n",
      "there\n",
      "i am \n",
      "mh nayeem \n",
      "to working in this procedure\n",
      "hello \n",
      "there\n",
      "i am \n",
      "mh nayeem \n",
      "to working in this procedure\n",
      "\n"
     ]
    }
   ],
   "source": [
    "print(\"\"\"hello \n",
    "there\n",
    "i am \n",
    "mh nayeem \n",
    "to working in this procedure\"\"\")\n",
    "print(\"\"\"\\\n",
    "hello \n",
    "there\n",
    "i am \n",
    "mh nayeem \n",
    "to working in this procedure\n",
    "\"\"\")\n"
   ]
  },
  {
   "cell_type": "code",
   "execution_count": 28,
   "metadata": {},
   "outputs": [
    {
     "name": "stdout",
     "output_type": "stream",
     "text": [
      "naynaynaynaynaynaymh\n"
     ]
    }
   ],
   "source": [
    "##Strings can be concatenated (glued together) \n",
    "#with the + operator, and repeated with *\n",
    "\n",
    "name= \"nay\"\n",
    "nam=\"mh\"\n",
    "\n",
    "print(name*6+nam)"
   ]
  },
  {
   "cell_type": "code",
   "execution_count": 32,
   "metadata": {},
   "outputs": [
    {
     "name": "stdout",
     "output_type": "stream",
     "text": [
      "Mahmudul hasan nayeem is a programmer and tech enthusiast and evangelist\n"
     ]
    }
   ],
   "source": [
    "#text concatenated\n",
    "name= ('Mahmudul hasan' ' nayeem' \n",
    "       ' is a programmer and tech enthusiast and evangelist')\n",
    "print(name)"
   ]
  },
  {
   "cell_type": "code",
   "execution_count": 60,
   "metadata": {
    "scrolled": true
   },
   "outputs": [
    {
     "name": "stdout",
     "output_type": "stream",
     "text": [
      "u\n",
      "s\n",
      "Mahmudul\n",
      "hmu\n",
      "Mahmudul hasan nayeem\n",
      "nayeem\n",
      "nayee\n",
      "Mahmudul hasan nayeem\n",
      "Mahmudul hasan nayeem,a programmer !\n"
     ]
    }
   ],
   "source": [
    "#indexes into a word or variable\n",
    "\n",
    "name= \"Mahmudul hasan nayeem\"\n",
    "print(name[6])\n",
    "print(name[-10])\n",
    "print(name[0:8])\n",
    "print(name[2:5])\n",
    "print(name[0:])\n",
    "print(name[-6:])\n",
    "print(name[-6:-1])\n",
    "print(name[:])\n",
    "\n",
    "nam= name+',a programmer !'\n",
    "print(nam)\n",
    "\n",
    "\n",
    "##see the following chart of indexing"
   ]
  },
  {
   "cell_type": "markdown",
   "metadata": {},
   "source": [
    "##+---+---+---+---+---+---+\n",
    " | P | y | t | h | o | n |\n",
    " +---+---+---+---+---+---+\n",
    "   0   1   2   3   4   5   \n",
    "  -6  -5  -4  -3  -2  -1"
   ]
  },
  {
   "cell_type": "code",
   "execution_count": 51,
   "metadata": {},
   "outputs": [
    {
     "name": "stdout",
     "output_type": "stream",
     "text": [
      "Nahmudul hasan nayeem\n"
     ]
    }
   ],
   "source": [
    "##Python strings cannot be changed — they are immutable. Therefore, \n",
    "#assigning to an indexed position in the string results in an error:\n",
    "\n",
    "#name[0]=\"n\"\n",
    "#print(name) this can'be be done this way cz strings are immutable in pythn\n",
    "#to create a new string follow the following strategy\n",
    "\n",
    "new_name= \"N\"+name[1:]\n",
    "print(new_name)"
   ]
  },
  {
   "cell_type": "code",
   "execution_count": 53,
   "metadata": {},
   "outputs": [
    {
     "name": "stdout",
     "output_type": "stream",
     "text": [
      "36\n"
     ]
    }
   ],
   "source": [
    "prof='programmer,developer and Ai engineer'\n",
    "length=len(prof)\n",
    "print(length)"
   ]
  },
  {
   "cell_type": "code",
   "execution_count": 59,
   "metadata": {},
   "outputs": [
    {
     "name": "stdout",
     "output_type": "stream",
     "text": [
      "['nayeem', 'nishpa', 'subna', 'ohi']\n",
      "ohi\n",
      "['nishpa', 'subna', 'ohi']\n",
      "['nayeem', 'nishpa', 'subna', 'ohi']\n"
     ]
    }
   ],
   "source": [
    "#basic list\n",
    "\n",
    "list=['nayeem','nishpa','subna','ohi']\n",
    "print(list)\n",
    "print(list[3])\n",
    "print(list[-3:])\n",
    "print(list[:])"
   ]
  },
  {
   "cell_type": "code",
   "execution_count": 64,
   "metadata": {},
   "outputs": [
    {
     "name": "stdout",
     "output_type": "stream",
     "text": [
      "['nayeem', 'nishpa', 'ohi', 'lija', 'sohel']\n",
      "['nayeem', 'nishpa', 'ohi', 'lija', 'sohel', 'subna']\n",
      "['nayeem', 'nishpa', 'ohi', 'lija', 'sohel', 'nayeem', 'nishpa', 'ohi', 'lija', 'sohel', 'subna']\n"
     ]
    }
   ],
   "source": [
    "#lists also support operations like concatenation\n",
    "\n",
    "list=[\"nayeem\",'nishpa','ohi','lija','sohel']\n",
    "print(list)\n",
    "list1=list+['subna']\n",
    "print(list1)\n",
    "list2=list*2+['subna']\n",
    "print(list2)"
   ]
  },
  {
   "cell_type": "code",
   "execution_count": 72,
   "metadata": {},
   "outputs": [
    {
     "name": "stdout",
     "output_type": "stream",
     "text": [
      "Hello there,i am working here with mutable lists\n",
      " \n",
      "List is : \n",
      "['nayeem', 'nishpa_moni', 'ohi', 'lija', 'sohel']\n",
      " \n",
      "List after mutable operation : \n",
      "['nayeem', 'nishpa_moni', 'ohi', 'lija', 'sohel']\n"
     ]
    }
   ],
   "source": [
    "#STRINGS ARE IMMUTABLE BUT LISTS ARE MUTABLE - that means lists can be changed\n",
    "\n",
    "print(\"Hello there,i am working here with mutable lists\")\n",
    "print(\" \")\n",
    "print(\"List is : \\n\"+str(list))\n",
    "print(\" \")\n",
    "list=[\"nayeem\",'nishpa','ohi','lija','sohel']\n",
    "list[1]=\"nishpa_moni\"\n",
    "print(\"List after mutable operation : \\n\"+str(list))"
   ]
  },
  {
   "cell_type": "code",
   "execution_count": 81,
   "metadata": {},
   "outputs": [
    {
     "name": "stdout",
     "output_type": "stream",
     "text": [
      "['hello', 'there', 'i', 'am', 'nayeem']\n",
      "['hello', 'there', 'i', 'am', 'nayeem', 'i am a programmer']\n",
      "['hello', 'there', 'i', 'am', 'nayeem', 'i am a programmer', 'My salary is :', 1000000]\n"
     ]
    }
   ],
   "source": [
    "#we can add items into a list by using append() method as follows\n",
    "\n",
    "list=[\"hello\",'there',\"i\",'am','nayeem']\n",
    "print(list)\n",
    "list.append(\"i am a programmer\")\n",
    "print(list)\n",
    "list.append(\"My salary is :\")\n",
    "list.append(10**6)\n",
    "print(list)"
   ]
  },
  {
   "cell_type": "code",
   "execution_count": 4,
   "metadata": {},
   "outputs": [
    {
     "name": "stdout",
     "output_type": "stream",
     "text": [
      "['a', 'b', 'c', 'd', 'e', 'f', 'g', 'h']\n",
      "['A', 'B', 'C', 'D', 'E', 'f', 'g', 'h']\n",
      "['A', 'B', 'C', 'D', 'E', 'F', 'G', 'f', 'g', 'h']\n",
      "['A', 'B', 'C', 'F', 'G', 'f', 'g', 'h']\n"
     ]
    }
   ],
   "source": [
    "#assignment to slices is also possible and this can change the size of list \n",
    "#completely and  entirely\n",
    "\n",
    "list=['a','b','c','d','e','f','g','h']\n",
    "print(list)\n",
    "list[0:5]=[\"A\",\"B\",'C','D','E']\n",
    "print(list)\n",
    "list[0:5]=[\"A\",\"B\",'C','D','E','F','G']\n",
    "print(list)\n",
    "\n",
    "##very importnat"
   ]
  },
  {
   "cell_type": "code",
   "execution_count": 5,
   "metadata": {},
   "outputs": [
    {
     "name": "stdout",
     "output_type": "stream",
     "text": [
      "['A', 'B', 'C', 'f', 'g', 'h']\n"
     ]
    }
   ],
   "source": [
    "list=['a','b','c','d','e','f','g','h']\n",
    "list[0:5]=[\"A\",\"B\",'C']\n",
    "print(list)  #very importnat"
   ]
  },
  {
   "cell_type": "code",
   "execution_count": 6,
   "metadata": {},
   "outputs": [
    {
     "name": "stdout",
     "output_type": "stream",
     "text": [
      "8\n"
     ]
    }
   ],
   "source": [
    "##build in list functions - len()\n",
    "list=['a','b','c','d','e','f','g','h']\n",
    "print(len(list))"
   ]
  },
  {
   "cell_type": "code",
   "execution_count": 19,
   "metadata": {},
   "outputs": [
    {
     "name": "stdout",
     "output_type": "stream",
     "text": [
      "[['n', 'a', 'y'], ['e', 'e', 'm']]\n",
      "['n', 'a', 'y']\n",
      "n\n",
      "m\n"
     ]
    }
   ],
   "source": [
    "#nested lists\n",
    "\n",
    "n=['n','a','y']\n",
    "m=['e','e','m']\n",
    "list=[n,m]\n",
    "print(list)\n",
    "print(list[0]) #this wil print the \"n list\"\n",
    "print(list[0][0]) #this will print the 'n' list and \n",
    "#the 0 indec item of that 'n' list\n",
    "print(list[1][2])"
   ]
  },
  {
   "cell_type": "code",
   "execution_count": null,
   "metadata": {},
   "outputs": [],
   "source": [
    "##Since ** has higher precedence than -, -3**2 will be interpreted as -(3**2) and\n",
    "##thus result in -9. To avoid this and get 9, you can use (-3)**2.\n",
    "##[2]\tUnlike other languages, special characters such as \\n have the same \n",
    "##meaning with both single ('...') and double (\"...\") quotes.\n",
    "##The only difference between the two is that within single quotes\n",
    "##you don’t need to escape \" (but you have to escape \\') and vice versa."
   ]
  }
 ],
 "metadata": {
  "kernelspec": {
   "display_name": "Python 3",
   "language": "python",
   "name": "python3"
  },
  "language_info": {
   "codemirror_mode": {
    "name": "ipython",
    "version": 3
   },
   "file_extension": ".py",
   "mimetype": "text/x-python",
   "name": "python",
   "nbconvert_exporter": "python",
   "pygments_lexer": "ipython3",
   "version": "3.6.7"
  }
 },
 "nbformat": 4,
 "nbformat_minor": 2
}
