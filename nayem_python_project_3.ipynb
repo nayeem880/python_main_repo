{
 "cells": [
  {
   "cell_type": "markdown",
   "metadata": {},
   "source": [
    "### 1. Whetting Your Appetite\n",
    "You could write a Unix shell script or Windows batch files for some of these tasks, but shell scripts are best at moving around files and changing text data, not well-suited for GUI applications or games.You could write a C/C++/Java program, but it can take a lot of development time to get even a first-draft program. Python is simpler to use, available on Windows, Mac OS X, and Unix operating systems, and will help you get the job done more quickly.\n",
    "\n",
    "Python also offers much more error checking than C, and, being a very-high-level language, it has high-level data types built in, such as flexible arrays and dictionaries.\n",
    "\n",
    "Because of its more general data types Python is applicable to a much larger problem domain than Awk or even Perl, yet many things are at least as easy in Python as in those languages.\n",
    "\n",
    "Python allows you to split your program into modules that can be reused in other Python programs. It comes with a large collection of standard modules that you can use as the basis of your programs — or as examples to start learning to program in Python. Some of these modules provide things like file I/O, system calls, sockets, and even interfaces to graphical user interface toolkits like Tk.\n",
    "\n",
    "Python is an interpreted language, which can save you considerable time during program development because no compilation and linking is necessary\n",
    "\n",
    "to write throw-away programs, or to test functions during bottom-up program development. It is also a handy desk calculator.\n",
    "\n",
    "Programs written in Python are typically much shorter than equivalent C, C++, or Java programs, for several reasons:\n",
    "\n",
    "the high-level data types allow you to express complex operations in a single statement;\n",
    "statement grouping is done by indentation instead of beginning and ending brackets;\n",
    "no variable or argument declarations are necessary.\n",
    "\n",
    "Python is extensible: if you know how to program in C it is easy to add a new built-in function or module to the interpreter, either to perform critical operations at maximum speed, or to link Python programs to libraries that may only be available in binary form (such as a vendor-specific graphics library). Once you are really hooked, you can link the Python interpreter into an application written in C and use it as an extension or command language for that application."
   ]
  },
  {
   "cell_type": "markdown",
   "metadata": {},
   "source": [
    "### 2. Using the Python Interpreter\n",
    "check the website for details - less important "
   ]
  },
  {
   "cell_type": "code",
   "execution_count": 5,
   "metadata": {},
   "outputs": [
    {
     "name": "stdout",
     "output_type": "stream",
     "text": [
      "Hello world\n"
     ]
    }
   ],
   "source": [
    "print(\"Hello world\")"
   ]
  },
  {
   "cell_type": "code",
   "execution_count": 11,
   "metadata": {},
   "outputs": [
    {
     "name": "stdout",
     "output_type": "stream",
     "text": [
      "Comment in python\n",
      "this is multiline string in python.Another thing you can do is\n",
      "use multiline strings by wrapping your comment inside a set of triple quotes\n",
      "#this is another multiline string comment\n",
      "#hello multiline comment\n",
      "\n"
     ]
    }
   ],
   "source": [
    "print(\"Comment in python\")\n",
    "\n",
    "#This is single line  comment\n",
    "#While Python doesn’t have native multiline commenting functionality, you\n",
    "#can create multiline comments in Python. There are two simple ways to do so.\n",
    "\n",
    "mstring='''this is multiline string in python.Another thing you can do is\n",
    "use multiline strings by wrapping your comment inside a set of triple quotes'''\n",
    "print(mstring)\n",
    "\n",
    "#another multiline string\n",
    "\n",
    "ms=\"\"\"#this is another multiline string comment\n",
    "#hello multiline comment\n",
    "\"\"\"\n",
    "print(ms)"
   ]
  },
  {
   "cell_type": "markdown",
   "metadata": {},
   "source": [
    "#### 3.1. Using Python as a Calculator\n",
    "##### 3.1.1. Numbers\n",
    "python interpreter works as a calculator where operator like +,-,*,%and / works togerther very fine"
   ]
  },
  {
   "cell_type": "code",
   "execution_count": 15,
   "metadata": {},
   "outputs": [
    {
     "name": "stdout",
     "output_type": "stream",
     "text": [
      "5.11\n",
      "2.25\n"
     ]
    }
   ],
   "source": [
    "into=2*2.555\n",
    "print(into)\n",
    "div=4.5/2\n",
    "print(div)"
   ]
  },
  {
   "cell_type": "code",
   "execution_count": 19,
   "metadata": {},
   "outputs": [
    {
     "name": "stdout",
     "output_type": "stream",
     "text": [
      "3.4\n",
      "3\n"
     ]
    }
   ],
   "source": [
    "#classic division returns a float\n",
    "div1=17/5\n",
    "print(div1)\n",
    "\n",
    "#floor division returns the integer value ignoring the floating point values\n",
    "\n",
    "floorDiv= 17//5\n",
    "print(floorDiv)\n"
   ]
  },
  {
   "cell_type": "code",
   "execution_count": 26,
   "metadata": {},
   "outputs": [
    {
     "name": "stdout",
     "output_type": "stream",
     "text": [
      "12.028799999999999\n",
      "112.2688\n"
     ]
    }
   ],
   "source": [
    "#In interactive mode, the last printed expression is assigned to the variable _. This means that when you are using Python as a \n",
    "#desk calculator, it is somewhat easier to continue calculations, for example:\n",
    "\n",
    "tax=100.24\n",
    "vat=tax*.12\n",
    "print(vat)\n",
    "\n",
    "total=tax+vat\n",
    "print(total)\n",
    "\n"
   ]
  },
  {
   "cell_type": "code",
   "execution_count": 27,
   "metadata": {},
   "outputs": [],
   "source": [
    "#In addition to int and float, Python supports other types of numbers, such as Decimal and Fraction. Python also has built-in support for complex numbers,\n",
    "#and uses the j or J suffix to indicate the imaginary part (e.g. 3+5j).\n",
    "\n",
    "\n"
   ]
  },
  {
   "cell_type": "code",
   "execution_count": 19,
   "metadata": {},
   "outputs": [
    {
     "name": "stdout",
     "output_type": "stream",
     "text": [
      "mahmudul hasan\n",
      "mahmudul hasan nayeem mhn\n"
     ]
    },
    {
     "data": {
      "text/plain": [
       "'mahmudul hasan nayeem mhn'"
      ]
     },
     "execution_count": 19,
     "metadata": {},
     "output_type": "execute_result"
    }
   ],
   "source": [
    "name = 'mahmudul ' 'hasan'\n",
    "print(name)\n",
    "\n",
    "name1= 'mahmudul ' 'hasan' ' nayeem'\n",
    "name2=' mhn'\n",
    "print(name1+name2)\n",
    "name1+name2"
   ]
  },
  {
   "cell_type": "code",
   "execution_count": 17,
   "metadata": {},
   "outputs": [
    {
     "name": "stdout",
     "output_type": "stream",
     "text": [
      "hello \n",
      "there \n",
      "how are\n",
      "you?\n",
      "?\n",
      "Hello there,my nam\\name is : nayeem \n"
     ]
    }
   ],
   "source": [
    "print('''\\\n",
    "hello \n",
    "there \n",
    "how are\n",
    "you?\\\n",
    "\\\n",
    "\n",
    "?''')\n",
    "\n",
    "print(r\"Hello there,my nam\\name is : nayeem \")"
   ]
  },
  {
   "cell_type": "code",
   "execution_count": 6,
   "metadata": {},
   "outputs": [
    {
     "name": "stdout",
     "output_type": "stream",
     "text": [
      "unununium\n",
      "nmnmnmnayeem\n",
      "4\n"
     ]
    }
   ],
   "source": [
    "concatenation= 3*'un'+'ium'\n",
    "\n",
    "print(concatenation)\n",
    "print(3*'nm'+'nayeem')\n",
    "print(4)"
   ]
  },
  {
   "cell_type": "code",
   "execution_count": 12,
   "metadata": {},
   "outputs": [
    {
     "name": "stdout",
     "output_type": "stream",
     "text": [
      "a\n"
     ]
    },
    {
     "data": {
      "text/plain": [
       "'mahmudul hasan n'"
      ]
     },
     "execution_count": 12,
     "metadata": {},
     "output_type": "execute_result"
    }
   ],
   "source": [
    "word=\"mahmudul hasan nayeem\"\n",
    "print(word[10])\n",
    "word[:-5]"
   ]
  },
  {
   "cell_type": "code",
   "execution_count": 14,
   "metadata": {},
   "outputs": [
    {
     "name": "stdout",
     "output_type": "stream",
     "text": [
      "joython\n"
     ]
    }
   ],
   "source": [
    "word='python'\n",
    "name='jo'+word[1:]\n",
    "print(name)"
   ]
  },
  {
   "cell_type": "code",
   "execution_count": 15,
   "metadata": {},
   "outputs": [
    {
     "data": {
      "text/plain": [
       "55"
      ]
     },
     "execution_count": 15,
     "metadata": {},
     "output_type": "execute_result"
    }
   ],
   "source": [
    "name='jsfhadsfa,sfhaj,fuyfagfjkbsfjbmsdfbsdfmsdfmbasfbjasfasf'\n",
    "len(name)"
   ]
  },
  {
   "cell_type": "code",
   "execution_count": 19,
   "metadata": {},
   "outputs": [
    {
     "name": "stdout",
     "output_type": "stream",
     "text": [
      "['a', 'b', 'c', 'd', 'e', 'f', 'g']\n",
      "['a', 'b', 'C', 'D', 'E', 'f', 'g']\n",
      "['a', 'b', 'g']\n"
     ]
    }
   ],
   "source": [
    "letters=['a','b','c','d','e','f','g']\n",
    "print(letters)\n",
    "\n",
    "letters[2:5]=['C','D','E']\n",
    "print(letters)\n",
    "\n",
    "letters[2:6]=[] #deleting the values from 2 to before 6\n",
    "print(letters)"
   ]
  },
  {
   "cell_type": "code",
   "execution_count": 24,
   "metadata": {
    "scrolled": true
   },
   "outputs": [
    {
     "name": "stdout",
     "output_type": "stream",
     "text": [
      "[['a', 'b', 'c', 'd'], [1, 2, 3, 4, 5, 6, 7]]\n",
      "d\n"
     ]
    }
   ],
   "source": [
    "a=['a','b','c','d']\n",
    "n=[1,2,3,4,5,6,7]\n",
    "u=[a,n]\n",
    "print(u)\n",
    "print(u[0][3])"
   ]
  },
  {
   "cell_type": "code",
   "execution_count": 38,
   "metadata": {},
   "outputs": [
    {
     "name": "stdout",
     "output_type": "stream",
     "text": [
      "Enter any number to get fibonacci value: 100\n",
      "0,1,1,2,3,5,8,13,21,34,55,89,None\n"
     ]
    }
   ],
   "source": [
    "def fibo(n):\n",
    "    a,b=0,1\n",
    "    \n",
    "    while a < n:\n",
    "        print(a,end=\",\")\n",
    "        a,b=b,a+b\n",
    "        \n",
    "n=int(input(\"Enter any number to get fibonacci value: \"))\n",
    "result=fibo(n)\n",
    "print(result)\n",
    "#The keyword argument end can be used to avoid\n",
    "#the newline after the output, or end the output with a different string:"
   ]
  },
  {
   "cell_type": "markdown",
   "metadata": {},
   "source": [
    "### Decimals\n",
    "A decimal number is immutable. It has a sign, coefficient digits, and an exponent. To preserve significance, the coefficient digits do not truncate trailing zeros. Decimals also include special values such as Infinity, -Infinity, and NaN. The standard also differentiates -0 from +0."
   ]
  },
  {
   "cell_type": "code",
   "execution_count": 39,
   "metadata": {},
   "outputs": [
    {
     "data": {
      "text/plain": [
       "7"
      ]
     },
     "execution_count": 39,
     "metadata": {},
     "output_type": "execute_result"
    }
   ],
   "source": [
    "5|6"
   ]
  },
  {
   "cell_type": "code",
   "execution_count": 40,
   "metadata": {},
   "outputs": [
    {
     "data": {
      "text/plain": [
       "6"
      ]
     },
     "execution_count": 40,
     "metadata": {},
     "output_type": "execute_result"
    }
   ],
   "source": [
    "6&7"
   ]
  },
  {
   "cell_type": "code",
   "execution_count": 41,
   "metadata": {},
   "outputs": [
    {
     "data": {
      "text/plain": [
       "1"
      ]
     },
     "execution_count": 41,
     "metadata": {},
     "output_type": "execute_result"
    }
   ],
   "source": [
    "6^7"
   ]
  },
  {
   "cell_type": "code",
   "execution_count": 42,
   "metadata": {},
   "outputs": [
    {
     "data": {
      "text/plain": [
       "-7"
      ]
     },
     "execution_count": 42,
     "metadata": {},
     "output_type": "execute_result"
    }
   ],
   "source": [
    "~6"
   ]
  },
  {
   "cell_type": "markdown",
   "metadata": {},
   "source": [
    "#### For loop in python"
   ]
  },
  {
   "cell_type": "code",
   "execution_count": null,
   "metadata": {},
   "outputs": [],
   "source": [
    "word=['Hello','nayeem','subna','nishpa','ohi','lija','sohel','mashnun']\n",
    "for i in word[2:5]:\n",
    "        print(i,len(i))\n",
    "        if len(i) <5:\n",
    "            print(\"This is less than 5: \")\n",
    "            print(i)\n"
   ]
  },
  {
   "cell_type": "code",
   "execution_count": null,
   "metadata": {},
   "outputs": [
    {
     "name": "stderr",
     "output_type": "stream",
     "text": [
      "IOPub data rate exceeded.\n",
      "The notebook server will temporarily stop sending output\n",
      "to the client in order to avoid crashing it.\n",
      "To change this limit, set the config variable\n",
      "`--NotebookApp.iopub_data_rate_limit`.\n",
      "\n",
      "Current values:\n",
      "NotebookApp.iopub_data_rate_limit=1000000.0 (bytes/sec)\n",
      "NotebookApp.rate_limit_window=3.0 (secs)\n",
      "\n"
     ]
    }
   ],
   "source": [
    "word=['Hello','nayeem','subna','nishpa','ohi','lija','sohel','mashnun']\n",
    "for i in word:\n",
    "    if len(i) <= 5:\n",
    "        word.insert(0,i)\n",
    "        print(word)"
   ]
  },
  {
   "cell_type": "code",
   "execution_count": null,
   "metadata": {},
   "outputs": [],
   "source": [
    "print(\"Hello\")"
   ]
  },
  {
   "cell_type": "code",
   "execution_count": null,
   "metadata": {},
   "outputs": [],
   "source": []
  }
 ],
 "metadata": {
  "kernelspec": {
   "display_name": "Python 3",
   "language": "python",
   "name": "python3"
  },
  "language_info": {
   "codemirror_mode": {
    "name": "ipython",
    "version": 3
   },
   "file_extension": ".py",
   "mimetype": "text/x-python",
   "name": "python",
   "nbconvert_exporter": "python",
   "pygments_lexer": "ipython3",
   "version": "3.7.1"
  }
 },
 "nbformat": 4,
 "nbformat_minor": 2
}
