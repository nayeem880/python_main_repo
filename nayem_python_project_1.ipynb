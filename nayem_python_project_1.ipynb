{
 "cells": [
  {
   "cell_type": "code",
   "execution_count": 1,
   "metadata": {},
   "outputs": [
    {
     "name": "stdout",
     "output_type": "stream",
     "text": [
      "hello python programming\n",
      "Nayeem is 55 years old and is male\n",
      "True\n"
     ]
    }
   ],
   "source": [
    "##here i am coding python\n",
    "\n",
    "print(\"hello python programming\")\n",
    "character_name= \"Nayeem\"\n",
    "charcater_age = 55\n",
    "charcater_sex=\"male\"\n",
    "phrase=\"helloo\"\n",
    "\n",
    "print(character_name+\" is \"+str(charcater_age)+\" years old and is \"+charcater_sex)\n",
    "print(phrase.upper().isupper())"
   ]
  },
  {
   "cell_type": "code",
   "execution_count": 20,
   "metadata": {},
   "outputs": [
    {
     "name": "stdout",
     "output_type": "stream",
     "text": [
      "Nayeem's Academy\n",
      "Tom Cruise is a very tallented and thriller actor,i like him most\n",
      "Liam Neeson is a very active and thriller actor,i like him most\n"
     ]
    }
   ],
   "source": [
    "##replace theory\n",
    "\n",
    "name = \"Giraffe Academy\"\n",
    "print(name.replace(\"Giraffe\",\"Nayeem's\"))\n",
    "\n",
    "name1= \"Liam Neeson is a very tallented and thriller actor,i like him most\"\n",
    "print(name1.replace(\"Liam Neeson\",\"Tom Cruise\"))\n",
    "print(name1.replace(\"tallented\",\"active\"))\n",
    "\n"
   ]
  },
  {
   "cell_type": "code",
   "execution_count": 26,
   "metadata": {},
   "outputs": [
    {
     "name": "stdout",
     "output_type": "stream",
     "text": [
      "Working with addition\n",
      "Enter number 1 : 55\n",
      "Enter number 2 : 66\n",
      "Sum of num1 and num2 is : 121.0\n",
      "Working with subtraction\n",
      "Enter number 1 : 99\n",
      "Enter number 2 : 69\n",
      "subtraction of num1 and num2 is : 30.0\n",
      "Working with multiplication\n",
      "Enter number 1 : 55\n",
      "Enter number 2 : 87\n",
      "multiplication of num1 and num2 is : 4785.0\n",
      "Working with division\n",
      "Enter number 1 : 25\n",
      "Enter number 2 : 5\n",
      "Division of num1 and num2 is : 5.0\n"
     ]
    }
   ],
   "source": [
    "##math operations \n",
    "num,num1,num2\n",
    "print(\"Working with addition\")\n",
    "num1=input(\"Enter number 1 : \")\n",
    "num2=input(\"Enter number 2 : \")\n",
    "num=float(num1)+float(num2)\n",
    "print(\"Sum of num1 and num2 is : \"+str(num))\n",
    "\n",
    "##subtraction of input numbers\n",
    "print(\"Working with subtraction\")\n",
    "num1=input(\"Enter number 1 : \")\n",
    "num2=input(\"Enter number 2 : \")\n",
    "num=float(num1)-float(num2)\n",
    "print(\"subtraction of num1 and num2 is : \"+str(num))\n",
    "\n",
    "##multiplication of given numbers\n",
    "print(\"Working with multiplication\")\n",
    "num1=input(\"Enter number 1 : \")\n",
    "num2=input(\"Enter number 2 : \")\n",
    "num=float(num1)*float(num2)\n",
    "print(\"multiplication of num1 and num2 is : \"+str(num))\n",
    "\n",
    "##division of given numbers\n",
    "print(\"Working with division\")\n",
    "num1=input(\"Enter number 1 : \")\n",
    "num2=input(\"Enter number 2 : \")\n",
    "num=float(num1)/float(num2)\n",
    "print(\"Division of num1 and num2 is : \"+str(num))\n"
   ]
  },
  {
   "cell_type": "code",
   "execution_count": 24,
   "metadata": {},
   "outputs": [
    {
     "name": "stdout",
     "output_type": "stream",
     "text": [
      "8.571428571428571\n"
     ]
    }
   ],
   "source": [
    "##math operations\n",
    "\n",
    "print(4/7+8)\n",
    "##first modulus, division then multiplication subtraction then addition"
   ]
  },
  {
   "cell_type": "markdown",
   "metadata": {},
   "source": []
  },
  {
   "cell_type": "code",
   "execution_count": 30,
   "metadata": {},
   "outputs": [
    {
     "name": "stdout",
     "output_type": "stream",
     "text": [
      "2 to the power 5 is : 32\n"
     ]
    }
   ],
   "source": [
    "num1=2\n",
    "num2=5\n",
    "num=num1**num2\n",
    "print(\"2 to the power 5 is : \"+str(num))"
   ]
  },
  {
   "cell_type": "code",
   "execution_count": 6,
   "metadata": {},
   "outputs": [
    {
     "name": "stdout",
     "output_type": "stream",
     "text": [
      "0.2\n",
      "6\n",
      "6 is my favourite number\n",
      "6\n",
      "66\n",
      "This is 3 to the power 25: 847288609443\n",
      "This is greater between the 55 and 78 : 78\n",
      "This is the smaller between 55 and 78 : 55\n"
     ]
    }
   ],
   "source": [
    "print(10%3/5)\n",
    "num=6\n",
    "print(str(num))\n",
    "print(str(num)+\" is my favourite number\")\n",
    "print(abs(num))\n",
    "num1=-66\n",
    "print(abs(num1))\n",
    "num2=88\n",
    "print(\"This is 3 to the power 25: \"+str(pow(3,25)))  ##that means 3^2\n",
    "\n",
    "\n",
    "print(\"This is greater between the 55 and 78 : \"+str(max(55,78)))  ##this will print out which number is big between these two\n",
    "print(\"This is the smaller between 55 and 78 : \"+str(min(55,78)))  ##this will print out which number is smaller between these two"
   ]
  },
  {
   "cell_type": "code",
   "execution_count": 7,
   "metadata": {},
   "outputs": [
    {
     "name": "stdout",
     "output_type": "stream",
     "text": [
      "Enter your name : nayeem\n",
      "Hi, nayeem\n",
      "Enter your age 55\n",
      "Your age is : 55\n"
     ]
    }
   ],
   "source": [
    "##working with input\n",
    "\n",
    "name = input(\"Enter your name : \")\n",
    "print(\"Hi, \"+name)\n",
    "age = input(\"Enter your age \")\n",
    "print(\"Your age is : \"+str(age))\n"
   ]
  },
  {
   "cell_type": "code",
   "execution_count": 8,
   "metadata": {},
   "outputs": [
    {
     "name": "stdout",
     "output_type": "stream",
     "text": [
      "Enter the name : nayeem islam\n",
      "Enter your age : 25\n",
      "Hello, nayeem islam your age is 25\n"
     ]
    }
   ],
   "source": [
    "##working with lots of input in jupiter\n",
    "namee= input(\"Enter the name : \")\n",
    "age = input(\"Enter your age : \")\n",
    "print(\"Hello, \"+namee+\" your age is \"+age)"
   ]
  },
  {
   "cell_type": "code",
   "execution_count": 9,
   "metadata": {},
   "outputs": [
    {
     "name": "stdout",
     "output_type": "stream",
     "text": [
      "Enter the name : mahmudul hasan nayeem\n",
      "Enter your age : 22\n",
      "Enter your sex : male\n",
      "Enter your profession : Ai developer\n",
      "hello\n",
      "Hi there ! i am cortana,welcome mahmudul hasan nayeem.You are a male guy,i see.A Ai developer working her entire life of age 22 years.Congratulations on your success and thanks for your service \n"
     ]
    }
   ],
   "source": [
    "namee= input(\"Enter the name : \")\n",
    "age = input(\"Enter your age : \")\n",
    "sex = input(\"Enter your sex : \")\n",
    "prof = input(\"Enter your profession : \")\n",
    "print(\"hello\")\n",
    "print(\"Hi there ! i am cortana,welcome \"+namee+\".You are a \"+sex+\" guy,i see.A \"+prof+\" working her entire life of age \"+str(age)+\" years.Congratulations on your success and thanks for your service \")"
   ]
  },
  {
   "cell_type": "code",
   "execution_count": 10,
   "metadata": {
    "scrolled": true
   },
   "outputs": [
    {
     "name": "stdout",
     "output_type": "stream",
     "text": [
      "This is round of 3.4 :3\n",
      "floor  of 3.6 is : 3\n",
      "ceil  of 55.3 is : 56\n",
      "square root of 49 is : 7.0\n"
     ]
    }
   ],
   "source": [
    "from math import *\n",
    "my_num=66  \n",
    "##this will find out the closest full form number \n",
    "print(\"This is round of 3.4 :\"+str(round(3.4))) \n",
    "print(\"floor  of 3.6 is : \"+str(floor(3.6)))\n",
    "print(\"ceil  of 55.3 is : \"+str(ceil(55.3)))\n",
    "print(\"square root of 49 is : \"+str(sqrt(49)))\n"
   ]
  },
  {
   "cell_type": "code",
   "execution_count": 11,
   "metadata": {},
   "outputs": [
    {
     "name": "stdout",
     "output_type": "stream",
     "text": [
      "Hello,please input any colour you want : blue and black\n",
      "Input any plural nour : munchises\n",
      "Enter celebrity name : liam_neeson\n",
      "This is blue and black,liam_neeson and munchises you have selected\n"
     ]
    }
   ],
   "source": [
    "color = input(\"Hello,please input any colour you want : \")\n",
    "plural_noun= input(\"Input any plural nour : \")\n",
    "celebrity = input(\"Enter celebrity name : \")\n",
    "\n",
    "print(\"This is \"+color+\",\"+celebrity+\" and \"+plural_noun+\" you have selected\")\n"
   ]
  },
  {
   "cell_type": "code",
   "execution_count": 13,
   "metadata": {},
   "outputs": [
    {
     "name": "stdout",
     "output_type": "stream",
     "text": [
      "Hello,please input any Hobby you want to share : Paintings\n",
      "Input any Play you like : Call of Duty\n",
      "Enter Food name you think delicios : Pizza from dominos\n",
      "Your favourite food is Pizza from dominos,hobby is Paintings and fav play Call of Duty - that you have selected\n"
     ]
    }
   ],
   "source": [
    "hobby = input(\"Hello,please input any Hobby you want to share : \")\n",
    "play= input(\"Input any Play you like : \")\n",
    "food = input(\"Enter Food name you think delicios : \")\n",
    "\n",
    "print(f\"Your favourite food is {food},hobby is {hobby} and fav play {play} - that you have selected\")"
   ]
  },
  {
   "cell_type": "code",
   "execution_count": 38,
   "metadata": {},
   "outputs": [
    {
     "name": "stdout",
     "output_type": "stream",
     "text": [
      "The total list is : ['nayem', 'dipu', 'Kaosar', 'Aqib', 'araf']\n",
      "dipu and Kaosaris my best friends\n"
     ]
    }
   ],
   "source": [
    "##working with lists \n",
    "friends=[\"nayem\",\"dipu\",\"Kaosar\",\"Aqib\",\"araf\"]\n",
    "print(\"The total list is : \"+str(friends))\n",
    "print(str(friends[1])+\" and \"+str(friends[2])+ \"is my best friends\")"
   ]
  },
  {
   "cell_type": "code",
   "execution_count": null,
   "metadata": {},
   "outputs": [],
   "source": []
  }
 ],
 "metadata": {
  "kernelspec": {
   "display_name": "Python 3",
   "language": "python",
   "name": "python3"
  },
  "language_info": {
   "codemirror_mode": {
    "name": "ipython",
    "version": 3
   },
   "file_extension": ".py",
   "mimetype": "text/x-python",
   "name": "python",
   "nbconvert_exporter": "python",
   "pygments_lexer": "ipython3",
   "version": "3.6.7"
  }
 },
 "nbformat": 4,
 "nbformat_minor": 2
}
##end
