{
 "cells": [
  {
   "cell_type": "markdown",
   "metadata": {},
   "source": [
    "#### coding if,while,for statements,few functions and data structures"
   ]
  },
  {
   "cell_type": "code",
   "execution_count": 1,
   "metadata": {},
   "outputs": [
    {
     "name": "stdout",
     "output_type": "stream",
     "text": [
      "Hello there ! we are coding in python for day 1 part 2\n"
     ]
    }
   ],
   "source": [
    "print(\"Hello there ! we are coding in python for day 1 part 2\")"
   ]
  },
  {
   "cell_type": "markdown",
   "metadata": {},
   "source": [
    "#comment\n",
    "#we are working with control flow tools - if statements,for,range(),break/continue"
   ]
  },
  {
   "cell_type": "code",
   "execution_count": 5,
   "metadata": {},
   "outputs": [
    {
     "name": "stdout",
     "output_type": "stream",
     "text": [
      "Enter any number : 160\n",
      "Number is greater than 10 : 160\n"
     ]
    }
   ],
   "source": [
    "#if statement\n",
    "\n",
    "num=int(input(\"Enter any number : \"))\n",
    "if num<10:\n",
    "    print(\"Number is less than 10 : \"+str(num))\n",
    "elif num>10:\n",
    "    print(\"Number is greater than 10 : \"+str(num))\n",
    "elif num==10:\n",
    "    print(\"Number is equal to 10 : \"+str(num))\n",
    "else:\n",
    "    print(\"Number is not valid : \"+str(num))"
   ]
  },
  {
   "cell_type": "code",
   "execution_count": 6,
   "metadata": {},
   "outputs": [
    {
     "name": "stdout",
     "output_type": "stream",
     "text": [
      "nayem 5\n",
      "Nishpa 6\n",
      "Ohi 3\n",
      "Subna 5\n"
     ]
    }
   ],
   "source": [
    "#for in python\n",
    "\n",
    "words=[\"nayem\",'Nishpa','Ohi','Subna']\n",
    "for w in words:\n",
    "    print(w,len(w))"
   ]
  },
  {
   "cell_type": "code",
   "execution_count": 9,
   "metadata": {},
   "outputs": [
    {
     "name": "stdout",
     "output_type": "stream",
     "text": [
      "['Nishpa', 'nayem', 'Nishpa', 'Ohi', 'Subna']\n"
     ]
    }
   ],
   "source": [
    "words=[\"nayem\",'Nishpa','Ohi','Subna']\n",
    "for w in words[:]:\n",
    "    if len(w) > 5:\n",
    "        words.insert(0,w)\n",
    "print(words)"
   ]
  },
  {
   "cell_type": "code",
   "execution_count": 10,
   "metadata": {},
   "outputs": [
    {
     "name": "stdout",
     "output_type": "stream",
     "text": [
      "0\n",
      "1\n",
      "2\n",
      "3\n",
      "4\n",
      "5\n",
      "6\n",
      "7\n",
      "8\n",
      "9\n"
     ]
    }
   ],
   "source": [
    "for i in range(10):\n",
    "    print(i)"
   ]
  },
  {
   "cell_type": "code",
   "execution_count": 3,
   "metadata": {},
   "outputs": [
    {
     "name": "stdout",
     "output_type": "stream",
     "text": [
      "0\n",
      "3\n",
      "6\n",
      "9\n",
      "12\n",
      "15\n",
      "18\n",
      "New Range\n",
      "-10\n",
      "-20\n",
      "-30\n",
      "-40\n",
      "-50\n",
      "-60\n",
      "-70\n",
      "-80\n",
      "-90\n"
     ]
    }
   ],
   "source": [
    "for i in range(0,20,3):\n",
    "    print(i)\n",
    "print(\"New Range\")\n",
    "for i in range(-10,-100,-10):\n",
    "    print(\"\"+str(i))"
   ]
  },
  {
   "cell_type": "code",
   "execution_count": 19,
   "metadata": {},
   "outputs": [
    {
     "name": "stdout",
     "output_type": "stream",
     "text": [
      "0 nayem\n",
      "1 nishpa\n",
      "2 ohi\n",
      "3 subna\n",
      "4 sohel\n"
     ]
    }
   ],
   "source": [
    "list=['nayem','nishpa','ohi','subna','sohel']\n",
    "for i in range(len(list)):\n",
    "    print(i,list[i])"
   ]
  },
  {
   "cell_type": "code",
   "execution_count": 23,
   "metadata": {},
   "outputs": [
    {
     "name": "stdout",
     "output_type": "stream",
     "text": [
      "range(0, 10)\n"
     ]
    }
   ],
   "source": [
    "print(range(10))\n"
   ]
  },
  {
   "cell_type": "code",
   "execution_count": 29,
   "metadata": {},
   "outputs": [
    {
     "name": "stdout",
     "output_type": "stream",
     "text": [
      "This is an even number : 2\n",
      "This is an odd number : 3\n",
      "This is an even number : 4\n",
      "This is an odd number : 5\n",
      "This is an even number : 6\n",
      "This is an odd number : 7\n",
      "This is an even number : 8\n",
      "This is an odd number : 9\n"
     ]
    }
   ],
   "source": [
    "for num in range(2,10):\n",
    "    if num%2==0:\n",
    "        print(\"This is an even number : \"+str(num))\n",
    "    elif num%2==1:\n",
    "        print(\"This is an odd number : \"+str(num))\n",
    "    else :\n",
    "        print(\"The number is not even or odd : \"+str(num))"
   ]
  },
  {
   "cell_type": "code",
   "execution_count": 37,
   "metadata": {},
   "outputs": [
    {
     "name": "stdout",
     "output_type": "stream",
     "text": [
      "2 is a prime number\n",
      "3 is a prime number\n",
      "4 equals 2 * 2\n",
      "5 is a prime number\n",
      "6 equals 2 * 3\n",
      "7 is a prime number\n",
      "8 equals 2 * 4\n",
      "9 equals 3 * 3\n"
     ]
    }
   ],
   "source": [
    "#VERY IPORTANT PROGRAM\n",
    "\n",
    "for n in range(2, 10):\n",
    "    for x in range(2, n):\n",
    "        if n % x == 0:\n",
    "            print(n, 'equals', x, '*', n//x)\n",
    "            break\n",
    "    else:\n",
    "        # loop fell through without finding a factor\n",
    "        print(n, 'is a prime number')\n"
   ]
  },
  {
   "cell_type": "code",
   "execution_count": 42,
   "metadata": {},
   "outputs": [
    {
     "name": "stdout",
     "output_type": "stream",
     "text": [
      "2 This is a prime number\n",
      "3 This is a prime number\n",
      "4 equals 2 * 2\n",
      "5 This is a prime number\n",
      "6 equals 2 * 3\n",
      "7 This is a prime number\n",
      "8 equals 2 * 4\n",
      "9 equals 3 * 3\n"
     ]
    }
   ],
   "source": [
    "for n in range (2,10):\n",
    "    for x in range(2,n):\n",
    "        if(n%x==0):\n",
    "            print(n,'equals', x, '*',n//x)\n",
    "            break\n",
    "    else:\n",
    "        print(n,\"This is a prime number\")"
   ]
  },
  {
   "cell_type": "code",
   "execution_count": 50,
   "metadata": {},
   "outputs": [
    {
     "name": "stdout",
     "output_type": "stream",
     "text": [
      "Enter any number for n : 60\n",
      "0 1 1 2 3 5 8 13 21 34 55 \n",
      "None\n"
     ]
    }
   ],
   "source": [
    "#fibonacci\n",
    "def fun(n):\n",
    "    a,b=0,1\n",
    "    while a<n:\n",
    "        print(a,end=\" \")\n",
    "        a,b=b,a+b\n",
    "    print()\n",
    "\n",
    "n=int(input(\"Enter any number for n : \"))\n",
    "result=fun(n)\n",
    "print(result)"
   ]
  },
  {
   "cell_type": "code",
   "execution_count": 1,
   "metadata": {},
   "outputs": [
    {
     "name": "stdout",
     "output_type": "stream",
     "text": [
      "Enter any number to get fibonacci series : 100\n",
      "[0, 1, 1, 2, 3, 5, 8, 13, 21, 34, 55, 89]\n"
     ]
    }
   ],
   "source": [
    "def fun(n):\n",
    "    result=[]\n",
    "    a,b=0,1\n",
    "    while a<n:\n",
    "        result.append(a)\n",
    "        a,b=b,a+b\n",
    "    return result\n",
    "n=int(input(\"Enter any number to get fibonacci series : \"))\n",
    "result=fun(n)\n",
    "print(result)"
   ]
  },
  {
   "cell_type": "code",
   "execution_count": 4,
   "metadata": {},
   "outputs": [
    {
     "name": "stdout",
     "output_type": "stream",
     "text": [
      "Found a even number :  2\n",
      "Found a odd number :  3\n",
      "Found a even number :  4\n",
      "Found a odd number :  5\n",
      "Found a even number :  6\n",
      "Found a odd number :  7\n",
      "Found a even number :  8\n",
      "Found a odd number :  9\n",
      "Found a even number :  10\n",
      "Found a odd number :  11\n",
      "Found a even number :  12\n",
      "Found a odd number :  13\n",
      "Found a even number :  14\n",
      "Found a odd number :  15\n",
      "Found a even number :  16\n",
      "Found a odd number :  17\n",
      "Found a even number :  18\n",
      "Found a odd number :  19\n"
     ]
    }
   ],
   "source": [
    "#continue\n",
    "\n",
    "for n in range(2,20):\n",
    "    if n%2==0:\n",
    "        print(\"Found a even number : \",n)\n",
    "        continue\n",
    "    else :\n",
    "        print(\"Found a odd number : \",n)"
   ]
  },
  {
   "cell_type": "code",
   "execution_count": 1,
   "metadata": {},
   "outputs": [],
   "source": [
    "def ask_ok(prompt,retries=4,reminder='Please try again later !'):\n",
    "    while True:\n",
    "        ok=input(prompt)\n",
    "        if ok in ('y','ye','yes'):\n",
    "            return True\n",
    "        if ok in ('n','no','nope'):\n",
    "            return False\n",
    "        retries=retries-1\n",
    "        if retries<0:\n",
    "            raise ValueError('invalid user response')\n",
    "            print(reminder)\n"
   ]
  },
  {
   "cell_type": "code",
   "execution_count": 6,
   "metadata": {},
   "outputs": [
    {
     "name": "stdout",
     "output_type": "stream",
     "text": [
      "Hello hello\n"
     ]
    }
   ],
   "source": [
    "num=\"hello\"\n",
    "print(\"Hello\",num)"
   ]
  },
  {
   "cell_type": "markdown",
   "metadata": {},
   "source": [
    "##Data Structures"
   ]
  },
  {
   "cell_type": "code",
   "execution_count": 7,
   "metadata": {},
   "outputs": [
    {
     "name": "stdout",
     "output_type": "stream",
     "text": [
      "Hello world ! \n",
      "I am working in Data Structures\n"
     ]
    }
   ],
   "source": [
    "print(\"Hello world ! \\nI am working in Data Structures\")\n"
   ]
  },
  {
   "cell_type": "code",
   "execution_count": 16,
   "metadata": {},
   "outputs": [
    {
     "name": "stdout",
     "output_type": "stream",
     "text": [
      "['nayeem', 'nishpa', 'ohi', 'subna', 'lija', 'sohel']\n",
      "['nayeem', 'nishpa', 'ohi', 'subna', 'lija', 'sohel', 'Nijhum']\n",
      "['nayeem', 'nishpa', 'ohi', 'subna', 'lija', 'sohel', 'Nijhum', 'raha']\n",
      "['nayeem', 'nishpa', 'raha']\n"
     ]
    }
   ],
   "source": [
    "#List.append(x)\n",
    "\n",
    "list=['nayeem','nishpa','ohi','subna','lija','sohel']\n",
    "print(list)\n",
    "list.append('Nijhum')\n",
    "print(list)\n",
    "list[len(list):]=['raha'] #this is same meaning of list.append()\n",
    "print(list)\n",
    "list[2:len(list)]=['raha'] #this is same meaning of list.append()\n",
    "print(list)"
   ]
  },
  {
   "cell_type": "code",
   "execution_count": 13,
   "metadata": {},
   "outputs": [
    {
     "name": "stdout",
     "output_type": "stream",
     "text": [
      "['nayeem', 'nishpa', 'ohi', 'subna', 'lija', 'sohel', 'k', 'e', 'y', 'a']\n",
      "['nayeem', 'nishpa', 'ohi', 'subna', 'lija', 'sohel', 'k', 'e', 'y', 'a', 's', 'h', 'e', 'z', 'a', 'n']\n"
     ]
    }
   ],
   "source": [
    "#list.extend(iterable)\n",
    "#list[len(list):]=iterable\n",
    "\n",
    "list=['nayeem','nishpa','ohi','subna','lija','sohel']\n",
    "list.extend(\"keya\")\n",
    "print(list)\n",
    "list[len(list):]=\"shezan\"\n",
    "print(list)"
   ]
  },
  {
   "cell_type": "code",
   "execution_count": 15,
   "metadata": {},
   "outputs": [
    {
     "name": "stdout",
     "output_type": "stream",
     "text": [
      "['nayeem', 'nishpa', 'ohi', 'subna', 'lija', 'sohel']\n",
      "['mh', 'nayeem', 'nishpa', 'ohi', 'subna', 'lija', 'sohel']\n"
     ]
    }
   ],
   "source": [
    "#list.insert(index,item to set)\n",
    "list=['nayeem','nishpa','ohi','subna','lija','sohel']\n",
    "print(list)\n",
    "list.insert(0,\"mh\")\n",
    "print(list)"
   ]
  },
  {
   "cell_type": "code",
   "execution_count": 19,
   "metadata": {},
   "outputs": [
    {
     "name": "stdout",
     "output_type": "stream",
     "text": [
      "['nayeem', 'nishpa', 'ohi', 'subna', 'lija', 'sohel']\n",
      "['nayeem', 'nishpa', 'subna', 'lija', 'sohel']\n"
     ]
    }
   ],
   "source": [
    "#list.remove(x)\n",
    "list=['nayeem','nishpa','ohi','subna','lija','sohel']\n",
    "print(list)\n",
    "list.remove('ohi')\n",
    "print(list)"
   ]
  },
  {
   "cell_type": "code",
   "execution_count": 30,
   "metadata": {},
   "outputs": [
    {
     "name": "stdout",
     "output_type": "stream",
     "text": [
      "['nayeem', 'nishpa', 'ohi', 'subna', 'lija', 'sohel']\n",
      "['nayeem', 'nishpa', 'ohi', 'subna', 'lija']\n",
      "['nayeem', 'nishpa', 'subna', 'lija']\n"
     ]
    }
   ],
   "source": [
    "#list.pop(index)\n",
    "list=['nayeem','nishpa','ohi','subna','lija','sohel']\n",
    "print(list)\n",
    "list.pop() ##a.pop() removes and returns the last item \n",
    "#in the list.(The square brackets around the i in the method \n",
    "#signature denote that the parameter is optional, \n",
    "print(list)\n",
    "list.pop(2)\n",
    "print(list)"
   ]
  },
  {
   "cell_type": "code",
   "execution_count": 26,
   "metadata": {},
   "outputs": [
    {
     "name": "stdout",
     "output_type": "stream",
     "text": [
      "['nayeem', 'nishpa', 'ohi', 'subna', 'lija', 'sohel']\n",
      "['nayeem', 'nishpa', 'ohi', 'subna', 'lija', 'sohel']\n",
      "[]\n"
     ]
    }
   ],
   "source": [
    "#Remove all items from the list. Equivalent to del a[:].\n",
    "list=['nayeem','nishpa','ohi','subna','lija','sohel']\n",
    "print(list)\n",
    "##list.clear()\n",
    "print(list)\n",
    "del list[:]\n",
    "print(list)"
   ]
  },
  {
   "cell_type": "code",
   "execution_count": 31,
   "metadata": {},
   "outputs": [
    {
     "name": "stdout",
     "output_type": "stream",
     "text": [
      "['nayeem', 'nishpa', 'ohi', 'subna', 'lija', 'sohel']\n"
     ]
    }
   ],
   "source": [
    "#list.index(x)\n",
    "list=['nayeem','nishpa','ohi','subna','lija','sohel']\n",
    "print(list)"
   ]
  },
  {
   "cell_type": "code",
   "execution_count": 47,
   "metadata": {},
   "outputs": [
    {
     "name": "stdout",
     "output_type": "stream",
     "text": [
      "['nayeem', 'nishpa', 'ohi', 'subna', 'lija', 'sohel', 'ohi']\n",
      "['nayeem', 'nishpa', 'ohi', 'subna', 'lija', 'sohel', 'ohi']\n",
      "None\n",
      "2\n"
     ]
    }
   ],
   "source": [
    "#list.copy\n",
    "#list.reverse\n",
    "#list.sort\n",
    "#list.count\n",
    "list=['nayeem','nishpa','ohi','subna','lija','sohel','ohi']\n",
    "print(list)\n",
    "copy=list.copy()\n",
    "print(copy)\n",
    "\n",
    "sort=list.sort() #must have to check\n",
    "print(sort)\n",
    "count=list.count(\"ohi\")\n",
    "#Return the number of times x-item appears in the list.\n",
    "print(count)"
   ]
  },
  {
   "cell_type": "code",
   "execution_count": 65,
   "metadata": {},
   "outputs": [
    {
     "name": "stdout",
     "output_type": "stream",
     "text": [
      "['5', '4', '3', '2', '1', '0']\n"
     ]
    }
   ],
   "source": [
    "list=['0','1','2','3','4','5']\n",
    "list.reverse()\n",
    "print(list)"
   ]
  },
  {
   "cell_type": "code",
   "execution_count": 59,
   "metadata": {},
   "outputs": [
    {
     "name": "stdout",
     "output_type": "stream",
     "text": [
      "['nayeem', 'nishpa', 'ohi', 'subna', 'lija', 'sohel', 'ohi']\n",
      "2\n",
      "0\n",
      "3\n",
      "6\n"
     ]
    }
   ],
   "source": [
    "#An example that uses most of the list methods\n",
    "list=['nayeem','nishpa','ohi','subna','lija','sohel','ohi']\n",
    "print(list)\n",
    "count=list.count('ohi')\n",
    "print(count)\n",
    "countt=list.count('aka')\n",
    "print(countt)\n",
    "index=list.index('subna')\n",
    "print(index)\n",
    "index=list.index('ohi',4)\n",
    "# Find next banana starting a position 4\n",
    "\n",
    "print(index)"
   ]
  },
  {
   "cell_type": "code",
   "execution_count": 64,
   "metadata": {},
   "outputs": [
    {
     "name": "stdout",
     "output_type": "stream",
     "text": [
      "['nayeem', 'nishpa', 'ohi', 'subna', 'lija', 'sohel', 'ohi']\n"
     ]
    }
   ],
   "source": [
    "##VEry important\n",
    "list=['nayeem','nishpa','ohi','subna','lija','sohel','ohi']\n",
    "list.reverse()\n",
    "print(list) ##this is the process of reverse ###very important"
   ]
  },
  {
   "cell_type": "code",
   "execution_count": 71,
   "metadata": {
    "scrolled": true
   },
   "outputs": [
    {
     "name": "stdout",
     "output_type": "stream",
     "text": [
      "['abdul', 'lija', 'nayeem', 'nishpa', 'ohi', 'ohi', 'sohel', 'subna']\n",
      "subna\n",
      "['abdul', 'lija', 'nayeem', 'nishpa', 'ohi', 'ohi', 'sohel']\n"
     ]
    }
   ],
   "source": [
    "list=['nayeem','nishpa','ohi','subna','lija','sohel','ohi','abdul']\n",
    "list.sort()\n",
    "print(list)\n",
    "pop=list.pop()\n",
    "print(pop)\n",
    "print(list)"
   ]
  },
  {
   "cell_type": "code",
   "execution_count": null,
   "metadata": {},
   "outputs": [],
   "source": [
    "#You might have noticed that methods like insert, remove or \n",
    "#sort that only modify the list have no return value printed\n",
    "#– they return the default None. [1] This is a design \n",
    "#principle for all mutable data structures in Python."
   ]
  },
  {
   "cell_type": "code",
   "execution_count": null,
   "metadata": {},
   "outputs": [],
   "source": [
    "#It is also possible to use a list as a queue, \n",
    "#where the first element added is the first element \n",
    "#retrieved (“first-in, first-out”); however, lists are not\n",
    "#efficient for this purpose. While appends and pops from the\n",
    "#end of list are fast, doing inserts or pops from the \n",
    "#beginning of a list is slow (because all of the other \n",
    "#elements have to be shifted by one).\n",
    "#To implement a queue, use collections.deque which was design\n",
    "#ed to have fast appends and pops from both ends.For example:"
   ]
  },
  {
   "cell_type": "code",
   "execution_count": 79,
   "metadata": {},
   "outputs": [
    {
     "name": "stdout",
     "output_type": "stream",
     "text": [
      "deque(['barac', 'Eric', 'john', 'michael', 'trump', 'clinton'])\n",
      "barac\n",
      "deque(['Eric', 'john', 'michael', 'trump', 'clinton'])\n",
      "Eric\n",
      "deque(['john', 'michael', 'trump', 'clinton'])\n"
     ]
    }
   ],
   "source": [
    "from collections import deque\n",
    "queue=deque([\"Eric\",\"john\",\"michael\"])\n",
    "queue.appendleft(\"barac\")\n",
    "queue.append(\"trump\")\n",
    "queue.append('clinton')\n",
    "print(queue)\n",
    "first_left=queue.popleft()\n",
    "print(first_left)\n",
    "print(queue)\n",
    "second=queue.popleft()\n",
    "print(second)\n",
    "print(queue)"
   ]
  },
  {
   "cell_type": "code",
   "execution_count": 82,
   "metadata": {},
   "outputs": [
    {
     "name": "stdout",
     "output_type": "stream",
     "text": [
      "[0, 1, 4, 9, 16, 25, 36, 49, 64, 81]\n",
      "[0, 1, 4, 9, 16, 25, 36, 49, 64, 81]\n"
     ]
    }
   ],
   "source": [
    "##list Comprehensions\n",
    "\n",
    "square=[]\n",
    "for n in range(10):\n",
    "    square.append(n**2)\n",
    "print(square)\n",
    "\n",
    "#We can calculate the list of \n",
    "#squares without any side effects using:\n",
    "\n",
    "square=[n**2 for n in range(10)]\n",
    "print(square)\n",
    "##square = list(map(lambda n: n**2, range(10)))\n"
   ]
  },
  {
   "cell_type": "code",
   "execution_count": 92,
   "metadata": {},
   "outputs": [
    {
     "name": "stdout",
     "output_type": "stream",
     "text": [
      "[(1, 4), (1, 5), (1, 6), (2, 4), (2, 5), (2, 6), (3, 4), (3, 5), (3, 6)]\n"
     ]
    }
   ],
   "source": [
    "##combinations\n",
    "\n",
    "comb=[]\n",
    "for i in [1,2,3]:\n",
    "    for j in [4,5,6]:\n",
    "        comb.append((i,j))\n",
    "print(comb)\n",
    "\n",
    "##same meaning with : \n",
    "##[(x, y) for x in [1,2,3] for y in [3,1,4] if x != y]"
   ]
  },
  {
   "cell_type": "code",
   "execution_count": 95,
   "metadata": {},
   "outputs": [
    {
     "name": "stdout",
     "output_type": "stream",
     "text": [
      "3.1\n",
      "3.14\n",
      "3.142\n",
      "3.1416\n",
      "3.14159\n"
     ]
    }
   ],
   "source": [
    "from math import pi\n",
    "for i in range(1,6):\n",
    "    print(round(pi,i))"
   ]
  },
  {
   "cell_type": "code",
   "execution_count": 110,
   "metadata": {},
   "outputs": [
    {
     "data": {
      "text/plain": [
       "[[1, 6, 9], [2, 5, 8], [3, 4, 7], [4, 7, 2]]"
      ]
     },
     "execution_count": 110,
     "metadata": {},
     "output_type": "execute_result"
    }
   ],
   "source": [
    "##nested list comprehensions\n",
    "\n",
    "matrix=[[1,2,3,4],\n",
    "        [6,5,4,7],\n",
    "        [9,8,7,2]]\n",
    " \n",
    "[[row[i] for row in matrix] for i in range(4)]\n"
   ]
  },
  {
   "cell_type": "code",
   "execution_count": 2,
   "metadata": {},
   "outputs": [],
   "source": [
    "\n",
    "transposed=[]\n",
    "matrix = [\n",
    "     [1, 2, 3, 4],\n",
    "     [5, 6, 7, 8],\n",
    "     [9, 10, 11, 12],\n",
    " ]\n",
    "for i in range(4):\n",
    "    transposed_row=[]\n",
    "    for row in matrix:\n",
    "        transposed_row.append(row[i])\n",
    "    transposed.append(transposed_row)"
   ]
  },
  {
   "cell_type": "code",
   "execution_count": null,
   "metadata": {},
   "outputs": [],
   "source": []
  }
 ],
 "metadata": {
  "kernelspec": {
   "display_name": "Python 3",
   "language": "python",
   "name": "python3"
  },
  "language_info": {
   "codemirror_mode": {
    "name": "ipython",
    "version": 3
   },
   "file_extension": ".py",
   "mimetype": "text/x-python",
   "name": "python",
   "nbconvert_exporter": "python",
   "pygments_lexer": "ipython3",
   "version": "3.7.1"
  }
 },
 "nbformat": 4,
 "nbformat_minor": 2
}
