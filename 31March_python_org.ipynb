{
 "cells": [
  {
   "cell_type": "code",
   "execution_count": 1,
   "metadata": {},
   "outputs": [
    {
     "name": "stdout",
     "output_type": "stream",
     "text": [
      "Hello\n"
     ]
    }
   ],
   "source": [
    "print(\"Hello\")"
   ]
  },
  {
   "cell_type": "code",
   "execution_count": 19,
   "metadata": {},
   "outputs": [
    {
     "name": "stdout",
     "output_type": "stream",
     "text": [
      "\n",
      "0 1 \n",
      "0 2 1 2 \n",
      "0 3 1 3 2 3 \n",
      "0 4 1 4 2 4 3 4 \n",
      "0 5 1 5 2 5 3 5 4 5 \n",
      "0 6 1 6 2 6 3 6 4 6 5 6 \n",
      "0 7 1 7 2 7 3 7 4 7 5 7 6 7 \n",
      "0 8 1 8 2 8 3 8 4 8 5 8 6 8 7 8 \n",
      "0 9 1 9 2 9 3 9 4 9 5 9 6 9 7 9 8 9 \n"
     ]
    }
   ],
   "source": [
    "for n in range (10):\n",
    "    for j in range(0,n):\n",
    "        print(j,n,end=\" \")\n",
    "    print(\"\")"
   ]
  },
  {
   "cell_type": "code",
   "execution_count": 22,
   "metadata": {},
   "outputs": [
    {
     "name": "stdout",
     "output_type": "stream",
     "text": [
      "FOund a even number :  0\n",
      "Odd number :  1\n",
      "Odd number :  2\n",
      "Odd number :  3\n",
      "Odd number :  4\n",
      "Odd number :  5\n",
      "Odd number :  6\n",
      "Odd number :  7\n",
      "Odd number :  8\n",
      "Odd number :  9\n",
      "Odd number :  10\n",
      "Odd number :  11\n",
      "Odd number :  12\n",
      "Odd number :  13\n",
      "Odd number :  14\n",
      "Odd number :  15\n",
      "Odd number :  16\n",
      "Odd number :  17\n",
      "Odd number :  18\n",
      "Odd number :  19\n"
     ]
    }
   ],
   "source": [
    "for n in range(20):\n",
    "    if n/2==0:\n",
    "        print(\"FOund a even number : \",n)\n",
    "        continue\n",
    "    else:\n",
    "        print(\"Odd number : \",n)"
   ]
  },
  {
   "cell_type": "code",
   "execution_count": null,
   "metadata": {},
   "outputs": [],
   "source": [
    "def functin(n):\n",
    "    a,b=0,1\n",
    "    while a<n:\n",
    "        print(a,end=\" \")\n",
    "        a,b=b,a+b\n",
    "n =int(input(\"Enter any number for fibonacci series result: \"))  \n",
    "print(result=functin(n))"
   ]
  },
  {
   "cell_type": "code",
   "execution_count": 9,
   "metadata": {},
   "outputs": [
    {
     "name": "stdout",
     "output_type": "stream",
     "text": [
      "Enter any number to get fibonacci series : 20\n",
      "[0, 1, 1, 2, 3, 5, 8, 13]\n"
     ]
    }
   ],
   "source": [
    "def fun(n):\n",
    "    a,b=0,1\n",
    "    result=[]\n",
    "    while a<n:\n",
    "        result.append(a) #result = result + [a]\n",
    "        a,b=b,a+b\n",
    "    return result\n",
    "n=int(input(\"Enter any number to get fibonacci series : \"))\n",
    "print(fun(n))"
   ]
  },
  {
   "cell_type": "code",
   "execution_count": 2,
   "metadata": {},
   "outputs": [
    {
     "name": "stdout",
     "output_type": "stream",
     "text": [
      "enter yes or not\n",
      "comeone\n",
      "enter yes or noyy\n",
      "comeone\n",
      "enter yes or nou\n"
     ]
    },
    {
     "ename": "ValueError",
     "evalue": "invalid response",
     "output_type": "error",
     "traceback": [
      "\u001b[1;31m---------------------------------------------------------------------------\u001b[0m",
      "\u001b[1;31mValueError\u001b[0m                                Traceback (most recent call last)",
      "\u001b[1;32m<ipython-input-2-2045e3f369dd>\u001b[0m in \u001b[0;36m<module>\u001b[1;34m\u001b[0m\n\u001b[0;32m     17\u001b[0m \u001b[1;31m#'Come on, only yes or no!')\u001b[0m\u001b[1;33m\u001b[0m\u001b[1;33m\u001b[0m\u001b[1;33m\u001b[0m\u001b[0m\n\u001b[0;32m     18\u001b[0m \u001b[1;33m\u001b[0m\u001b[0m\n\u001b[1;32m---> 19\u001b[1;33m \u001b[0mfun\u001b[0m\u001b[1;33m(\u001b[0m\u001b[1;34m'enter yes or no'\u001b[0m\u001b[1;33m,\u001b[0m\u001b[1;36m2\u001b[0m\u001b[1;33m,\u001b[0m\u001b[1;34m'comeone'\u001b[0m\u001b[1;33m)\u001b[0m\u001b[1;33m\u001b[0m\u001b[1;33m\u001b[0m\u001b[0m\n\u001b[0m",
      "\u001b[1;32m<ipython-input-2-2045e3f369dd>\u001b[0m in \u001b[0;36mfun\u001b[1;34m(prompt, retries, reminder)\u001b[0m\n\u001b[0;32m      8\u001b[0m         \u001b[0mretries\u001b[0m\u001b[1;33m=\u001b[0m\u001b[0mretries\u001b[0m\u001b[1;33m-\u001b[0m\u001b[1;36m1\u001b[0m\u001b[1;33m\u001b[0m\u001b[1;33m\u001b[0m\u001b[0m\n\u001b[0;32m      9\u001b[0m         \u001b[1;32mif\u001b[0m \u001b[0mretries\u001b[0m\u001b[1;33m<\u001b[0m\u001b[1;36m0\u001b[0m\u001b[1;33m:\u001b[0m\u001b[1;33m\u001b[0m\u001b[1;33m\u001b[0m\u001b[0m\n\u001b[1;32m---> 10\u001b[1;33m             \u001b[1;32mraise\u001b[0m \u001b[0mValueError\u001b[0m\u001b[1;33m(\u001b[0m\u001b[1;34m'invalid response'\u001b[0m\u001b[1;33m)\u001b[0m\u001b[1;33m\u001b[0m\u001b[1;33m\u001b[0m\u001b[0m\n\u001b[0m\u001b[0;32m     11\u001b[0m         \u001b[0mprint\u001b[0m\u001b[1;33m(\u001b[0m\u001b[0mreminder\u001b[0m\u001b[1;33m)\u001b[0m\u001b[1;33m\u001b[0m\u001b[1;33m\u001b[0m\u001b[0m\n\u001b[0;32m     12\u001b[0m \u001b[1;33m\u001b[0m\u001b[0m\n",
      "\u001b[1;31mValueError\u001b[0m: invalid response"
     ]
    }
   ],
   "source": [
    "def fun(prompt,retries=4,reminder='try again'):\n",
    "    while True:\n",
    "        taken=input(prompt)\n",
    "        if taken in ('y','ye','ya','yes'):\n",
    "            return True\n",
    "        if taken in ('n','no','nope','na'):\n",
    "            return False\n",
    "        retries=retries-1\n",
    "        if retries<0:\n",
    "            raise ValueError('invalid response')\n",
    "        print(reminder)\n",
    "        \n",
    "#This function can be called in several ways:\n",
    "#giving only the mandatory argument: ask_ok('Do you really want to quit?')\n",
    "#giving one of the optional arguments: ask_ok('OK to overwrite the file?', 2)\n",
    "#or even giving all arguments: ask_ok('OK to overwrite the file?', 2,\n",
    "#'Come on, only yes or no!')\n",
    "\n",
    "l[fun('enter yes or no',2,'comeone') #this is correct 2 will override over 4"
   ]
  },
  {
   "cell_type": "code",
   "execution_count": 11,
   "metadata": {},
   "outputs": [
    {
     "name": "stdout",
     "output_type": "stream",
     "text": [
      "[10]\n",
      "[10, 5]\n",
      "[10, 5, 20]\n"
     ]
    }
   ],
   "source": [
    "list=[]\n",
    "def f(a):\n",
    "    list.append(a)\n",
    "    return list\n",
    "print(f(10))\n",
    "print(f(5))\n",
    "print(f(20))"
   ]
  },
  {
   "cell_type": "code",
   "execution_count": 14,
   "metadata": {},
   "outputs": [
    {
     "name": "stdout",
     "output_type": "stream",
     "text": [
      "[20]\n",
      "[30]\n"
     ]
    }
   ],
   "source": [
    "def f(a,list=None):\n",
    "    if list is None:\n",
    "        list=[]\n",
    "    list.append(a)\n",
    "    return list\n",
    "print(f(20))\n",
    "print(f(30))"
   ]
  },
  {
   "cell_type": "code",
   "execution_count": 36,
   "metadata": {},
   "outputs": [
    {
     "name": "stdout",
     "output_type": "stream",
     "text": [
      "this is subna.He/she is 21 and female.Height is : 5.2\n"
     ]
    }
   ],
   "source": [
    "def person(human,name=\"nayeem\",age=22,sex='male',height=5.7):\n",
    "    print(f\"this is {name}.He/she is {age} and {sex}.Height is : {height}\")\n",
    "    \n",
    "person(\"nm\",\"subna\",age=21,sex=\"female\",height=5.2)"
   ]
  },
  {
   "cell_type": "code",
   "execution_count": 49,
   "metadata": {},
   "outputs": [
    {
     "name": "stdout",
     "output_type": "stream",
     "text": [
      "this is subna.He/she is 22, male and height : 4.9.\n"
     ]
    }
   ],
   "source": [
    "def human(prompt,name,age,height,sex='male'):\n",
    "    #in terms of arguments keyward argument should follow the positional argument\n",
    "    print(f\"this is {name}.He/she is {age}, {sex} and height : {height}.\")\n",
    "\n",
    "human('nm',age=22,height=4.9,name='subna',)"
   ]
  },
  {
   "cell_type": "code",
   "execution_count": 63,
   "metadata": {},
   "outputs": [
    {
     "name": "stdout",
     "output_type": "stream",
     "text": [
      "earth.venice.mars.jupyter\n"
     ]
    },
    {
     "data": {
      "text/plain": [
       "'earth/venice/mars/jupyter'"
      ]
     },
     "execution_count": 63,
     "metadata": {},
     "output_type": "execute_result"
    }
   ],
   "source": [
    "def globe_name(*args,separator=\"/\",sep=\".\"):\n",
    "            print(sep.join(args))\n",
    "            return separator.join(args)\n",
    "\n",
    "\n",
    "globe_name('earth','venice','mars','jupyter')"
   ]
  },
  {
   "cell_type": "code",
   "execution_count": 66,
   "metadata": {},
   "outputs": [
    {
     "name": "stdout",
     "output_type": "stream",
     "text": [
      "This parrot wouldn't  voom  if you put  four milion  through it's  bleedin demised !\n"
     ]
    }
   ],
   "source": [
    "def parrot(voltage,state='a striff',action='voom'):\n",
    "    print(\"This parrot wouldn't \",action,end=\" \")\n",
    "    print(\" if you put \",voltage,end=\" \")\n",
    "    print(\" through it's \",state, \"!\")\n",
    "\n",
    "d={\"voltage\":'four milion','state':'bleedin demised','action':'voom'}\n",
    "\n",
    "parrot(**d)"
   ]
  },
  {
   "cell_type": "code",
   "execution_count": 68,
   "metadata": {},
   "outputs": [
    {
     "data": {
      "text/plain": [
       "46"
      ]
     },
     "execution_count": 68,
     "metadata": {},
     "output_type": "execute_result"
    }
   ],
   "source": [
    "def make_incrementor(n):\n",
    "    return lambda x:x+n\n",
    "\n",
    "f=make_incrementor(43)\n",
    "f(3)"
   ]
  },
  {
   "cell_type": "code",
   "execution_count": 75,
   "metadata": {},
   "outputs": [
    {
     "name": "stdout",
     "output_type": "stream",
     "text": [
      "do nothing but a \n",
      "    \n",
      "    documentation\n"
     ]
    }
   ],
   "source": [
    "def docfun():\n",
    "    '''do nothing but a \n",
    "    \n",
    "    documentation'''\n",
    "print(docfun.__doc__)"
   ]
  },
  {
   "cell_type": "code",
   "execution_count": 86,
   "metadata": {},
   "outputs": [
    {
     "name": "stdout",
     "output_type": "stream",
     "text": [
      "[(1, 'one'), (3, 'three'), (4, 'three'), (5, 'three'), (6, 'three'), (2, 'two')]\n"
     ]
    }
   ],
   "source": [
    "pair=[(1,'one'),(2,'two'),(3,'three'),(4,'three'),(5,'three'),(6,'three')]\n",
    "pair.sort(key=lambda pair:pair[1])\n",
    "\n",
    "print(pair)"
   ]
  },
  {
   "cell_type": "code",
   "execution_count": 103,
   "metadata": {},
   "outputs": [
    {
     "name": "stdout",
     "output_type": "stream",
     "text": [
      "['nayem', 'nishpa', 'subna', 'lija', 'sohel', 'hafija']\n",
      "['nayem', 'nishpa', 'subna', 'lija', 'sohel', 'hafija', 'n', 'a', 'm', 'e']\n",
      "['nayem', 'nishpa', 'subna', 'lija', 'sohel', 'n', 'a', 'm', 'e']\n",
      "['nayem', 'nishpa', 'subna', 'nijhum', 'lija', 'sohel', 'n', 'a', 'm', 'e']\n",
      "lija\n"
     ]
    }
   ],
   "source": [
    "list=['nayem','nishpa','subna','lija','sohel']\n",
    "list.append('hafija')\n",
    "print(list)\n",
    "list.extend('name')\n",
    "print(list)\n",
    "list.remove(\"hafija\")\n",
    "print(list)\n",
    "list.insert(3,'nijhum')\n",
    "print(list)\n",
    "print(list[4])"
   ]
  },
  {
   "cell_type": "code",
   "execution_count": 105,
   "metadata": {},
   "outputs": [
    {
     "name": "stdout",
     "output_type": "stream",
     "text": [
      "[]\n"
     ]
    }
   ],
   "source": [
    "list=['nayem','nishpa','subna','lija','sohel']\n",
    "list.clear()\n",
    "# del list[:]\n",
    "print(list)"
   ]
  },
  {
   "cell_type": "code",
   "execution_count": null,
   "metadata": {},
   "outputs": [],
   "source": []
  }
 ],
 "metadata": {
  "kernelspec": {
   "display_name": "Python 3",
   "language": "python",
   "name": "python3"
  },
  "language_info": {
   "codemirror_mode": {
    "name": "ipython",
    "version": 3
   },
   "file_extension": ".py",
   "mimetype": "text/x-python",
   "name": "python",
   "nbconvert_exporter": "python",
   "pygments_lexer": "ipython3",
   "version": "3.7.1"
  }
 },
 "nbformat": 4,
 "nbformat_minor": 2
}
