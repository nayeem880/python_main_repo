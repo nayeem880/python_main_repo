{
 "cells": [
  {
   "cell_type": "code",
   "execution_count": 13,
   "metadata": {},
   "outputs": [
    {
     "name": "stdout",
     "output_type": "stream",
     "text": [
      "Coding with mosh tutorial\n"
     ]
    }
   ],
   "source": [
    "##codeing with mosh tutorials - (21-3-2019) : AI tutorial started with python\n",
    "##March 20-31 will be python and mathematics practice session ;)\n",
    "print(\"Coding with mosh tutorial\")"
   ]
  },
  {
   "cell_type": "code",
   "execution_count": 12,
   "metadata": {},
   "outputs": [
    {
     "name": "stdout",
     "output_type": "stream",
     "text": [
      "Hello world\n"
     ]
    }
   ],
   "source": [
    "##Basic hello world program to start the days works\n",
    "print(\"Hello world\")"
   ]
  },
  {
   "cell_type": "code",
   "execution_count": 10,
   "metadata": {},
   "outputs": [
    {
     "name": "stdout",
     "output_type": "stream",
     "text": [
      "0--------\n",
      "-----0------\n",
      "|||||||\n",
      "Hello nayeem\n",
      "How are you today?\n",
      "Hope and wish you a great vacation and weekend ahead !\n",
      "  /_|\n",
      " /__|\n",
      "/___|\n",
      "/___|\n"
     ]
    }
   ],
   "source": [
    "#Weired expressions\n",
    "print(\"0--------\")\n",
    "print(\"-----0------\")\n",
    "print(\"|||||||\")\n",
    "print(\"Hello nayeem\\nHow are you today?\\nHope and wish you a great vacation and weekend ahead !\")\n",
    "print(\"   /_|\")\n",
    "print(\"  /__|\")\n",
    "print(\" /___|\")\n",
    "print(\"/____|\")"
   ]
  },
  {
   "cell_type": "code",
   "execution_count": 20,
   "metadata": {},
   "outputs": [
    {
     "name": "stdout",
     "output_type": "stream",
     "text": [
      "Price is : $1100.55\n",
      "Price1 is : $22200.55\n"
     ]
    }
   ],
   "source": [
    "##printing the price \n",
    "price = 1100.55\n",
    "price1 = 22200.55\n",
    "print(\"Price is : $\"+str(price))\n",
    "print(\"Price1 is : $\"+str(price1))"
   ]
  },
  {
   "cell_type": "code",
   "execution_count": 21,
   "metadata": {},
   "outputs": [
    {
     "name": "stdout",
     "output_type": "stream",
     "text": [
      "5555.78\n"
     ]
    }
   ],
   "source": [
    "##Rating program\n",
    "default_rating=3\n",
    "name='Mosh_truner'\n",
    "age=\"28\"\n",
    "is_published =True\n",
    "price = 5555.78\n",
    "print(price)\n"
   ]
  },
  {
   "cell_type": "code",
   "execution_count": 25,
   "metadata": {},
   "outputs": [
    {
     "name": "stdout",
     "output_type": "stream",
     "text": [
      "Enter your first name : Mahmudul Hasan\n",
      "and second name : Nayeem\n",
      "Hi \n",
      "Mahmudul Hasan Nayeem\n",
      "Welcome to the coding session with mosh\n",
      "Your favourite color : royal Blue\n",
      "Mahmudul Hasan Nayeem you choosed royal Blue,I see !\n"
     ]
    }
   ],
   "source": [
    "#getting input\n",
    "first_name=input(\"Enter your first name : \")\n",
    "second_name=input(\"and second name : \")\n",
    "print(\"Hi \\n\"+first_name+\" \"+second_name+\"\\nWelcome to the coding session with mosh\")\n",
    "fav_color=input(\"Your favourite color : \")\n",
    "print(first_name+\" \"+second_name+\" you choosed \"+fav_color+\",I see !\")"
   ]
  },
  {
   "cell_type": "code",
   "execution_count": 31,
   "metadata": {},
   "outputs": [
    {
     "name": "stdout",
     "output_type": "stream",
     "text": [
      "Enter Your Name : nayeem\n",
      "Your Birth Year : 1997\n",
      "Hi nayeem,you are 22years old now\n"
     ]
    }
   ],
   "source": [
    "##Age calculator from birthday\n",
    "name=input(\"Enter Your Name : \")\n",
    "birthyear=int(input(\"Your Birth Year : \"))\n",
    "age=2019-(birthyear)\n",
    "print(\"Hi \"+name+\",you are \"+str(age)+\"years old now\")\n"
   ]
  },
  {
   "cell_type": "code",
   "execution_count": 34,
   "metadata": {},
   "outputs": [
    {
     "name": "stdout",
     "output_type": "stream",
     "text": [
      "Input your weight in lbs and get converted into KG : 118\n",
      "Your weight in kg is : 53.1\n"
     ]
    }
   ],
   "source": [
    "##Measuring weight\n",
    "weight=input(\"Input your weight in lbs and get converted into KG : \")\n",
    "weight_kg=float(weight)*0.45\n",
    "print(\"Your weight in kg is : \"+str(weight_kg))"
   ]
  },
  {
   "cell_type": "code",
   "execution_count": 43,
   "metadata": {},
   "outputs": [
    {
     "name": "stdout",
     "output_type": "stream",
     "text": [
      "Enter which index you wana see : 13\n",
      "i\n"
     ]
    }
   ],
   "source": [
    "#indexing any line\n",
    "##so Exciting ;)\n",
    "\n",
    "line=\"Programming with python\"\n",
    "i=int(input(\"Enter which index you wana see : \"))\n",
    "print(line[i])"
   ]
  },
  {
   "cell_type": "code",
   "execution_count": 50,
   "metadata": {},
   "outputs": [
    {
     "name": "stdout",
     "output_type": "stream",
     "text": [
      "Hello there i\n"
     ]
    }
   ],
   "source": [
    "#replacing indexes\n",
    "\n",
    "line1=\"Hello there i am doing great\"\n",
    "print(line1[0:13])"
   ]
  },
  {
   "cell_type": "code",
   "execution_count": null,
   "metadata": {},
   "outputs": [],
   "source": []
  }
 ],
 "metadata": {
  "kernelspec": {
   "display_name": "Python 3",
   "language": "python",
   "name": "python3"
  },
  "language_info": {
   "codemirror_mode": {
    "name": "ipython",
    "version": 3
   },
   "file_extension": ".py",
   "mimetype": "text/x-python",
   "name": "python",
   "nbconvert_exporter": "python",
   "pygments_lexer": "ipython3",
   "version": "3.6.7"
  }
 },
 "nbformat": 4,
 "nbformat_minor": 2
}
