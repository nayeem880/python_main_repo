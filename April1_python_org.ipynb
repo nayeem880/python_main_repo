{
 "cells": [
  {
   "cell_type": "code",
   "execution_count": 1,
   "metadata": {},
   "outputs": [
    {
     "name": "stdout",
     "output_type": "stream",
     "text": [
      "Hello world ! this is programming in python from python.org on april 1\n"
     ]
    }
   ],
   "source": [
    "print(\"Hello world ! this is programming in python from python.org on april 1\")"
   ]
  },
  {
   "cell_type": "markdown",
   "metadata": {},
   "source": [
    "#### this is Data Structure programming in python chapter 5"
   ]
  },
  {
   "cell_type": "code",
   "execution_count": 31,
   "metadata": {
    "scrolled": true
   },
   "outputs": [
    {
     "name": "stdout",
     "output_type": "stream",
     "text": [
      "['nayeem', 'nishpa', 'ohi', 'subna', 'lija', 'sohel']\n",
      "['nayeem', 'nishpa', 'ohi', 'subna', 'lija', 'sohel', 'nijhum']\n",
      "['nayeem', 'nishpa', 'ohi', 'subna', 'lija', 'sohel', 'nijhum', 'mhhh']\n",
      "['nayeem', 'nishpa', 'ohi', 'subna', 'lija', 'sohel', 'nijhum', 'mhhh', 'a', 'b', 'r', 'a', 'c', 'a', 'd', 'e', 'b', 'r', 'a']\n",
      "['nayeem', 'nishpa', 'ohi', 'subna', 'lija', 'sohel', 'nijhum', 'mhhh', 'a', 'b', 'r', 'a', 'c', 'a', 'd', 'e', 'b', 'r', 'a', 'n', 'e', 'w']\n",
      "['nayeem', 'nusrat', 'nishpa', 'ohi', 'subna', 'lija', 'sohel', 'nijhum', 'mhhh', 'a', 'b', 'r', 'a', 'c', 'a', 'd', 'e', 'b', 'r', 'a', 'n', 'e', 'w']\n",
      "['nayeem', 'nusrat', 'nishpa', 'ohi', 'subna', 'lija', 'sohel', 'nijhum', 'a', 'b', 'r', 'a', 'c', 'a', 'd', 'e', 'b', 'r', 'a', 'n', 'e', 'w']\n",
      "['nayeem', 'nusrat', 'nishpa', 'ohi', 'lija', 'sohel', 'nijhum', 'a', 'b', 'r', 'a', 'c', 'a', 'd', 'e', 'b', 'r', 'a', 'n', 'e', 'w']\n",
      "['nayeem', 'nusrat', 'nishpa', 'ohi', 'lija', 'sohel', 'nijhum', 'a', 'b', 'r', 'a', 'c', 'a', 'd', 'e', 'b', 'r', 'a', 'n', 'e']\n",
      "1 nayeem\n",
      "['e', 'n', 'a', 'r', 'b', 'e', 'd', 'a', 'c', 'a', 'r', 'b', 'a', 'nijhum', 'sohel', 'lija', 'ohi', 'nishpa', 'nusrat', 'nayeem']\n",
      "['e', 'n', 'a', 'r', 'b', 'e', 'd', 'a', 'c', 'a', 'r', 'b', 'a', 'nijhum', 'sohel', 'lija', 'ohi', 'nishpa', 'nusrat', 'nayeem']\n",
      "['a', 'a', 'a', 'a', 'b', 'b', 'c', 'd', 'e', 'e', 'lija', 'n', 'nayeem', 'nijhum', 'nishpa', 'nusrat', 'ohi', 'r', 'r', 'sohel']\n"
     ]
    }
   ],
   "source": [
    "#more on lists\n",
    "list = ['nayeem','nishpa','ohi','subna','lija','sohel']\n",
    "print(list)\n",
    "\n",
    "#append a list\n",
    "list.append(\"nijhum\")\n",
    "print(list)\n",
    "list[len(list):]=['mhhh']\n",
    "print(list)\n",
    "\n",
    "#extend a list\n",
    "list.extend('abracadebra')\n",
    "print(list)\n",
    "list[len(list):]='new'\n",
    "print(list)\n",
    "\n",
    "#insert into a list\n",
    "#list.insert(index,value)\n",
    "list.insert(1,'nusrat')\n",
    "print(list)\n",
    "\n",
    "#remove\n",
    "list.remove('mhhh')\n",
    "print(list)\n",
    "\n",
    "#pop type remove\n",
    "#list.pop(index)\n",
    "list.pop(4)\n",
    "print(list)\n",
    "list.pop()\n",
    "print(list) #will remove last item of the list\n",
    "\n",
    "#count\n",
    "countt=list.count('nayeem')\n",
    "print(countt,'nayeem')\n",
    "\n",
    "#list.reverse\n",
    "list.reverse()\n",
    "print(list)\n",
    "\n",
    "#list.copy\n",
    "list.copy()\n",
    "print(list)\n",
    "\n"
   ]
  },
  {
   "cell_type": "code",
   "execution_count": 34,
   "metadata": {},
   "outputs": [
    {
     "name": "stdout",
     "output_type": "stream",
     "text": [
      "['a', 'a', 'a', 'a', 'b', 'b', 'c', 'd', 'e', 'e', 'lija', 'n', 'nayeem', 'nijhum', 'nishpa', 'nusrat', 'ohi', 'r', 'r', 'sohel']\n",
      "['a', 'a', 'a', 'a', 'b', 'b', 'c', 'd', 'e', 'e', 'lija', 'n', 'nayeem', 'nijhum', 'nishpa', 'nusrat', 'ohi', 'r', 'r', 'sohel']\n",
      "[]\n"
     ]
    }
   ],
   "source": [
    "#differnt types\n",
    "#sort in list\n",
    "\n",
    "list.sort()\n",
    "print(list)\n",
    "\n",
    "list.index('a')\n",
    "print(list)\n",
    "\n",
    "#clear\n",
    "#del list[:]\n",
    "list.clear()\n",
    "print(list)\n",
    "\n",
    "#insert,remove and sort has no return value printed - they return the \n",
    "#default value None.\n",
    "#This is a design principle for all mutable data structures in python"
   ]
  },
  {
   "cell_type": "code",
   "execution_count": 38,
   "metadata": {},
   "outputs": [
    {
     "name": "stdout",
     "output_type": "stream",
     "text": [
      "[1, 2, 3, 4, 5, 6]\n",
      "6\n",
      "[1, 2, 3, 4, 5]\n"
     ]
    }
   ],
   "source": [
    "#5.1.1 using lists as stack\n",
    "#stack\n",
    "#last in first out\n",
    "stack=[1,2,3,4,5]\n",
    "stack.append(6)\n",
    "print(stack)\n",
    "\n",
    "#pop() has a return value\n",
    "result=stack.pop()\n",
    "print(result)\n",
    "print(stack)"
   ]
  },
  {
   "cell_type": "code",
   "execution_count": null,
   "metadata": {},
   "outputs": [],
   "source": [
    "#5.1.2 using list as Queues\n",
    "#first in first out\n"
   ]
  },
  {
   "cell_type": "code",
   "execution_count": null,
   "metadata": {},
   "outputs": [],
   "source": [
    "#5.3 sequence types - list,tuple,range\n",
    "\n"
   ]
  },
  {
   "cell_type": "code",
   "execution_count": null,
   "metadata": {},
   "outputs": [],
   "source": []
  },
  {
   "cell_type": "code",
   "execution_count": null,
   "metadata": {},
   "outputs": [],
   "source": []
  },
  {
   "cell_type": "code",
   "execution_count": null,
   "metadata": {},
   "outputs": [],
   "source": []
  },
  {
   "cell_type": "code",
   "execution_count": null,
   "metadata": {},
   "outputs": [],
   "source": []
  },
  {
   "cell_type": "code",
   "execution_count": null,
   "metadata": {},
   "outputs": [],
   "source": []
  },
  {
   "cell_type": "code",
   "execution_count": null,
   "metadata": {},
   "outputs": [],
   "source": []
  },
  {
   "cell_type": "code",
   "execution_count": null,
   "metadata": {},
   "outputs": [],
   "source": []
  },
  {
   "cell_type": "code",
   "execution_count": 9,
   "metadata": {},
   "outputs": [
    {
     "name": "stdout",
     "output_type": "stream",
     "text": [
      "deque(['nayeem', 'nishpa', 'ohi', 'terry', 'graham'])\n",
      "deque(['ohi', 'terry', 'graham'])\n"
     ]
    }
   ],
   "source": [
    "from collections import deque\n",
    "queue = deque([\"nayeem\",'nishpa','ohi'])\n",
    "queue.append('terry')\n",
    "queue.append('graham')\n",
    "print(queue)\n",
    "queue.popleft()\n",
    "queue.popleft()\n",
    "print(queue)"
   ]
  },
  {
   "cell_type": "code",
   "execution_count": null,
   "metadata": {},
   "outputs": [],
   "source": []
  }
 ],
 "metadata": {
  "kernelspec": {
   "display_name": "Python 3",
   "language": "python",
   "name": "python3"
  },
  "language_info": {
   "codemirror_mode": {
    "name": "ipython",
    "version": 3
   },
   "file_extension": ".py",
   "mimetype": "text/x-python",
   "name": "python",
   "nbconvert_exporter": "python",
   "pygments_lexer": "ipython3",
   "version": "3.7.1"
  }
 },
 "nbformat": 4,
 "nbformat_minor": 2
}
