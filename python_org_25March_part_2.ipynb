{
 "cells": [
  {
   "cell_type": "code",
   "execution_count": 1,
   "metadata": {},
   "outputs": [
    {
     "name": "stdout",
     "output_type": "stream",
     "text": [
      "Hello there ! we are coding in python for day 1 part 2\n"
     ]
    }
   ],
   "source": [
    "print(\"Hello there ! we are coding in python for day 1 part 2\")"
   ]
  },
  {
   "cell_type": "markdown",
   "metadata": {},
   "source": [
    "#comment\n",
    "#we are working with control flow tools - if statements,for,range(),break/continue"
   ]
  },
  {
   "cell_type": "code",
   "execution_count": 5,
   "metadata": {},
   "outputs": [
    {
     "name": "stdout",
     "output_type": "stream",
     "text": [
      "Enter any number : 160\n",
      "Number is greater than 10 : 160\n"
     ]
    }
   ],
   "source": [
    "#if statement\n",
    "\n",
    "num=int(input(\"Enter any number : \"))\n",
    "if num<10:\n",
    "    print(\"Number is less than 10 : \"+str(num))\n",
    "elif num>10:\n",
    "    print(\"Number is greater than 10 : \"+str(num))\n",
    "elif num==10:\n",
    "    print(\"Number is equal to 10 : \"+str(num))\n",
    "else:\n",
    "    print(\"Number is not valid : \"+str(num))"
   ]
  },
  {
   "cell_type": "code",
   "execution_count": 6,
   "metadata": {},
   "outputs": [
    {
     "name": "stdout",
     "output_type": "stream",
     "text": [
      "nayem 5\n",
      "Nishpa 6\n",
      "Ohi 3\n",
      "Subna 5\n"
     ]
    }
   ],
   "source": [
    "#for in python\n",
    "\n",
    "words=[\"nayem\",'Nishpa','Ohi','Subna']\n",
    "for w in words:\n",
    "    print(w,len(w))"
   ]
  },
  {
   "cell_type": "code",
   "execution_count": 9,
   "metadata": {},
   "outputs": [
    {
     "name": "stdout",
     "output_type": "stream",
     "text": [
      "['Nishpa', 'nayem', 'Nishpa', 'Ohi', 'Subna']\n"
     ]
    }
   ],
   "source": [
    "words=[\"nayem\",'Nishpa','Ohi','Subna']\n",
    "for w in words[:]:\n",
    "    if len(w) > 5:\n",
    "        words.insert(0,w)\n",
    "print(words)"
   ]
  },
  {
   "cell_type": "code",
   "execution_count": 10,
   "metadata": {},
   "outputs": [
    {
     "name": "stdout",
     "output_type": "stream",
     "text": [
      "0\n",
      "1\n",
      "2\n",
      "3\n",
      "4\n",
      "5\n",
      "6\n",
      "7\n",
      "8\n",
      "9\n"
     ]
    }
   ],
   "source": [
    "for i in range(10):\n",
    "    print(i)"
   ]
  },
  {
   "cell_type": "code",
   "execution_count": 3,
   "metadata": {},
   "outputs": [
    {
     "name": "stdout",
     "output_type": "stream",
     "text": [
      "0\n",
      "3\n",
      "6\n",
      "9\n",
      "12\n",
      "15\n",
      "18\n",
      "New Range\n",
      "-10\n",
      "-20\n",
      "-30\n",
      "-40\n",
      "-50\n",
      "-60\n",
      "-70\n",
      "-80\n",
      "-90\n"
     ]
    }
   ],
   "source": [
    "for i in range(0,20,3):\n",
    "    print(i)\n",
    "print(\"New Range\")\n",
    "for i in range(-10,-100,-10):\n",
    "    print(\"\"+str(i))"
   ]
  },
  {
   "cell_type": "code",
   "execution_count": 19,
   "metadata": {},
   "outputs": [
    {
     "name": "stdout",
     "output_type": "stream",
     "text": [
      "0 nayem\n",
      "1 nishpa\n",
      "2 ohi\n",
      "3 subna\n",
      "4 sohel\n"
     ]
    }
   ],
   "source": [
    "list=['nayem','nishpa','ohi','subna','sohel']\n",
    "for i in range(len(list)):\n",
    "    print(i,list[i])"
   ]
  },
  {
   "cell_type": "code",
   "execution_count": 23,
   "metadata": {},
   "outputs": [
    {
     "name": "stdout",
     "output_type": "stream",
     "text": [
      "range(0, 10)\n"
     ]
    }
   ],
   "source": [
    "print(range(10))\n"
   ]
  },
  {
   "cell_type": "code",
   "execution_count": 29,
   "metadata": {},
   "outputs": [
    {
     "name": "stdout",
     "output_type": "stream",
     "text": [
      "This is an even number : 2\n",
      "This is an odd number : 3\n",
      "This is an even number : 4\n",
      "This is an odd number : 5\n",
      "This is an even number : 6\n",
      "This is an odd number : 7\n",
      "This is an even number : 8\n",
      "This is an odd number : 9\n"
     ]
    }
   ],
   "source": [
    "for num in range(2,10):\n",
    "    if num%2==0:\n",
    "        print(\"This is an even number : \"+str(num))\n",
    "    elif num%2==1:\n",
    "        print(\"This is an odd number : \"+str(num))\n",
    "    else :\n",
    "        print(\"The number is not even or odd : \"+str(num))"
   ]
  },
  {
   "cell_type": "code",
   "execution_count": 37,
   "metadata": {},
   "outputs": [
    {
     "name": "stdout",
     "output_type": "stream",
     "text": [
      "2 is a prime number\n",
      "3 is a prime number\n",
      "4 equals 2 * 2\n",
      "5 is a prime number\n",
      "6 equals 2 * 3\n",
      "7 is a prime number\n",
      "8 equals 2 * 4\n",
      "9 equals 3 * 3\n"
     ]
    }
   ],
   "source": [
    "#VERY IPORTANT PROGRAM\n",
    "\n",
    "for n in range(2, 10):\n",
    "    for x in range(2, n):\n",
    "        if n % x == 0:\n",
    "            print(n, 'equals', x, '*', n//x)\n",
    "            break\n",
    "    else:\n",
    "        # loop fell through without finding a factor\n",
    "        print(n, 'is a prime number')\n"
   ]
  },
  {
   "cell_type": "code",
   "execution_count": 42,
   "metadata": {},
   "outputs": [
    {
     "name": "stdout",
     "output_type": "stream",
     "text": [
      "2 This is a prime number\n",
      "3 This is a prime number\n",
      "4 equals 2 * 2\n",
      "5 This is a prime number\n",
      "6 equals 2 * 3\n",
      "7 This is a prime number\n",
      "8 equals 2 * 4\n",
      "9 equals 3 * 3\n"
     ]
    }
   ],
   "source": [
    "for n in range (2,10):\n",
    "    for x in range(2,n):\n",
    "        if(n%x==0):\n",
    "            print(n,'equals', x, '*',n//x)\n",
    "            break\n",
    "    else:\n",
    "        print(n,\"This is a prime number\")"
   ]
  },
  {
   "cell_type": "code",
   "execution_count": 50,
   "metadata": {},
   "outputs": [
    {
     "name": "stdout",
     "output_type": "stream",
     "text": [
      "Enter any number for n : 60\n",
      "0 1 1 2 3 5 8 13 21 34 55 \n",
      "None\n"
     ]
    }
   ],
   "source": [
    "#fibonacci\n",
    "def fun(n):\n",
    "    a,b=0,1\n",
    "    while a<n:\n",
    "        print(a,end=\" \")\n",
    "        a,b=b,a+b\n",
    "    print()\n",
    "\n",
    "n=int(input(\"Enter any number for n : \"))\n",
    "result=fun(n)\n",
    "print(result)"
   ]
  },
  {
   "cell_type": "code",
   "execution_count": 1,
   "metadata": {},
   "outputs": [
    {
     "name": "stdout",
     "output_type": "stream",
     "text": [
      "Enter any number to get fibonacci series : 100\n",
      "[0, 1, 1, 2, 3, 5, 8, 13, 21, 34, 55, 89]\n"
     ]
    }
   ],
   "source": [
    "def fun(n):\n",
    "    result=[]\n",
    "    a,b=0,1\n",
    "    while a<n:\n",
    "        result.append(a)\n",
    "        a,b=b,a+b\n",
    "    return result\n",
    "n=int(input(\"Enter any number to get fibonacci series : \"))\n",
    "result=fun(n)\n",
    "print(result)"
   ]
  },
  {
   "cell_type": "code",
   "execution_count": null,
   "metadata": {},
   "outputs": [],
   "source": []
  }
 ],
 "metadata": {
  "kernelspec": {
   "display_name": "Python 3",
   "language": "python",
   "name": "python3"
  },
  "language_info": {
   "codemirror_mode": {
    "name": "ipython",
    "version": 3
   },
   "file_extension": ".py",
   "mimetype": "text/x-python",
   "name": "python",
   "nbconvert_exporter": "python",
   "pygments_lexer": "ipython3",
   "version": "3.7.1"
  }
 },
 "nbformat": 4,
 "nbformat_minor": 2
}
