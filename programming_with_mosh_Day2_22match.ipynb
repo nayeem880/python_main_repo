{
 "cells": [
  {
   "cell_type": "code",
   "execution_count": 1,
   "metadata": {},
   "outputs": [
    {
     "name": "stdout",
     "output_type": "stream",
     "text": [
      "Hello world\n",
      "I am doing programming for day two march - 22,2019\n"
     ]
    }
   ],
   "source": [
    "print(\"Hello world\\nI am doing programming for day two march - 22,2019\")"
   ]
  },
  {
   "cell_type": "code",
   "execution_count": 2,
   "metadata": {},
   "outputs": [
    {
     "name": "stdout",
     "output_type": "stream",
     "text": [
      "20\n",
      "Hello python learner\n",
      "Welcome python learner\n",
      "HELLO PYTHON LEARNER\n",
      "hello python learner\n",
      "6\n",
      "Hello Python Learner\n"
     ]
    }
   ],
   "source": [
    "#few methods in work\n",
    "\n",
    "course=\"Hello python learner\"\n",
    "print(len(course))\n",
    "print(course)\n",
    "print(course.replace(\"Hello\",\"Welcome\"))\n",
    "print(course.upper())\n",
    "print(course.lower())\n",
    "print(course.find(\"python\"))\n",
    "print(course.title())"
   ]
  },
  {
   "cell_type": "code",
   "execution_count": 3,
   "metadata": {},
   "outputs": [
    {
     "name": "stdout",
     "output_type": "stream",
     "text": [
      "9\n",
      "-2\n",
      "42\n",
      "2.3333333333333335\n",
      "1\n",
      "100000\n",
      "2\n",
      "7\n",
      "5\n",
      "5\n",
      "2.5\n",
      "0.5\n"
     ]
    }
   ],
   "source": [
    "#arithmetic operator\n",
    "\n",
    "print(3+6) #addition\n",
    "print(6-8)\n",
    "print(6*7)\n",
    "print(7/3)\n",
    "print(10%3)\n",
    "print(10**5)\n",
    "print(10//4)\n",
    "x=5\n",
    "x+=2\n",
    "print(x)\n",
    "x-=2\n",
    "print(x)\n",
    "x*=2\n",
    "x=5\n",
    "print(x)\n",
    "x/=2\n",
    "print(x)\n",
    "x%=2\n",
    "print(x)\n"
   ]
  },
  {
   "cell_type": "code",
   "execution_count": 4,
   "metadata": {},
   "outputs": [
    {
     "name": "stdout",
     "output_type": "stream",
     "text": [
      "Hello operator preferences\n",
      "Result is : 73.0\n"
     ]
    }
   ],
   "source": [
    "##operation preferences\n",
    "\"\"\" First exponentiation will work then modulus,division,multiplication,\n",
    "subtraction and finally addition\n",
    "\"\"\"\n",
    "\n",
    "print(\"Hello operator preferences\")\n",
    "num=5\n",
    "num1=2\n",
    "result=num1**num/num1*num-(num+num1)\n",
    "print(\"Result is : \"+str(result))"
   ]
  },
  {
   "cell_type": "code",
   "execution_count": 5,
   "metadata": {},
   "outputs": [
    {
     "name": "stdout",
     "output_type": "stream",
     "text": [
      "0.625\n",
      "0.625\n"
     ]
    }
   ],
   "source": [
    "##separating preferences by using first brackets\n",
    "x=2\n",
    "y=3\n",
    "r=(x+y)/x**y\n",
    "print(r)\n",
    "\n",
    "print(5/8)"
   ]
  },
  {
   "cell_type": "code",
   "execution_count": 6,
   "metadata": {},
   "outputs": [
    {
     "name": "stdout",
     "output_type": "stream",
     "text": [
      "78.0\n",
      "2\n",
      "3\n",
      "9\n",
      "-45.0\n",
      "720\n"
     ]
    },
    {
     "data": {
      "text/plain": [
       "'Return x factorial. Raises ValueError if\\nx is not integral or is negative.'"
      ]
     },
     "execution_count": 6,
     "metadata": {},
     "output_type": "execute_result"
    }
   ],
   "source": [
    "##math functions\n",
    "import math\n",
    "\n",
    "absnum=78\n",
    "print(math.fabs(absnum)) ##Return the absolute value of absnum.\n",
    "    \n",
    "x=2.4\n",
    "print(round(x))\n",
    "\n",
    "y=3.4\n",
    "print(math.floor(y))\n",
    "\n",
    "zz=8.2\n",
    "print(math.ceil(zz)) \n",
    "\"\"\"Return the ceiling of x, the smallest integer \n",
    "greater than or equal to x. If x is not a float, delegates\n",
    "to x.__ceil__(), which should return an Integral value.\"\"\"\n",
    "\n",
    "print(math.copysign(45,-84)) \n",
    "\"\"\"Return a float with the magnitude \n",
    "(absolute value) of x but the sign of y. On platforms \n",
    "that support signed zeros, copysign(1.0, -0.0) returns -1.0.\"\"\"\n",
    "\n",
    "fact=6\n",
    "print(math.factorial(fact)) \n",
    "\"\"\"Return x factorial. Raises ValueError if\n",
    "x is not integral or is negative.\"\"\"\n"
   ]
  },
  {
   "cell_type": "code",
   "execution_count": null,
   "metadata": {},
   "outputs": [],
   "source": []
  }
 ],
 "metadata": {
  "kernelspec": {
   "display_name": "Python 3",
   "language": "python",
   "name": "python3"
  },
  "language_info": {
   "codemirror_mode": {
    "name": "ipython",
    "version": 3
   },
   "file_extension": ".py",
   "mimetype": "text/x-python",
   "name": "python",
   "nbconvert_exporter": "python",
   "pygments_lexer": "ipython3",
   "version": "3.6.7"
  }
 },
 "nbformat": 4,
 "nbformat_minor": 2
}
