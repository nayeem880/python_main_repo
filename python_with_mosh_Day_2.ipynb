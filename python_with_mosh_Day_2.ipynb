{
 "cells": [
  {
   "cell_type": "code",
   "execution_count": 1,
   "metadata": {},
   "outputs": [
    {
     "name": "stdout",
     "output_type": "stream",
     "text": [
      "Hello mosh it's part 2\n"
     ]
    }
   ],
   "source": [
    "print(\"Hello mosh it's part 2\")"
   ]
  },
  {
   "cell_type": "code",
   "execution_count": 8,
   "metadata": {},
   "outputs": [
    {
     "name": "stdout",
     "output_type": "stream",
     "text": [
      "m | a | h | m | u | d | u | l |   | h | a | s | a | n |   | n | a | y | e | e | m | "
     ]
    }
   ],
   "source": [
    "for item in \"mahmudul hasan nayeem\":\n",
    "    print(item,end=\" | \")"
   ]
  },
  {
   "cell_type": "code",
   "execution_count": 13,
   "metadata": {},
   "outputs": [
    {
     "name": "stdout",
     "output_type": "stream",
     "text": [
      "2 4 6 8 10 12 14 16 18 "
     ]
    }
   ],
   "source": [
    "for i in range(2,20,2):\n",
    "    print(i,end=\" \")"
   ]
  },
  {
   "cell_type": "code",
   "execution_count": 5,
   "metadata": {},
   "outputs": [
    {
     "name": "stdout",
     "output_type": "stream",
     "text": [
      "Welcome back\n"
     ]
    }
   ],
   "source": [
    "print(\"Welcome back\")"
   ]
  },
  {
   "cell_type": "code",
   "execution_count": 15,
   "metadata": {},
   "outputs": [
    {
     "name": "stdout",
     "output_type": "stream",
     "text": [
      "60\n"
     ]
    }
   ],
   "source": [
    "price=[10,20,30]\n",
    "sum=0\n",
    "for i in price:\n",
    "    sum=sum+i\n",
    "print(sum)"
   ]
  },
  {
   "cell_type": "code",
   "execution_count": 22,
   "metadata": {},
   "outputs": [
    {
     "name": "stdout",
     "output_type": "stream",
     "text": [
      "( 0 , 0 )\n",
      "( 0 , 1 )\n",
      "( 0 , 2 )\n",
      "( 1 , 0 )\n",
      "( 1 , 1 )\n",
      "( 1 , 2 )\n",
      "( 2 , 0 )\n",
      "( 2 , 1 )\n",
      "( 2 , 2 )\n"
     ]
    }
   ],
   "source": [
    "for i in range(3):\n",
    "    for j in range(3):\n",
    "        print(\"(\",i,\",\",j,')')"
   ]
  },
  {
   "cell_type": "code",
   "execution_count": 24,
   "metadata": {},
   "outputs": [
    {
     "name": "stdout",
     "output_type": "stream",
     "text": [
      "(0,0)\n",
      "(0,1)\n",
      "(0,2)\n",
      "(1,0)\n",
      "(1,1)\n",
      "(1,2)\n",
      "(2,0)\n",
      "(2,1)\n",
      "(2,2)\n"
     ]
    }
   ],
   "source": [
    "for i in range(3):\n",
    "    for j in range(3):\n",
    "        print(f\"({i},{j})\")"
   ]
  },
  {
   "cell_type": "code",
   "execution_count": 36,
   "metadata": {},
   "outputs": [
    {
     "name": "stdout",
     "output_type": "stream",
     "text": [
      "xxxxx\n",
      "xx\n",
      "xxx\n",
      "xxxx\n",
      "xxxxxx\n"
     ]
    }
   ],
   "source": [
    "numbers=[5,2,3,4,6]\n",
    "\n",
    "for i in range(len(numbers)):\n",
    "    for j in range(numbers[i]):\n",
    "        print(end=\"x\")\n",
    "    print(\"\")\n"
   ]
  },
  {
   "cell_type": "code",
   "execution_count": 32,
   "metadata": {},
   "outputs": [
    {
     "data": {
      "text/plain": [
       "[5, 2, 3, 4, 6]"
      ]
     },
     "execution_count": 32,
     "metadata": {},
     "output_type": "execute_result"
    }
   ],
   "source": [
    "numbers=[5,2,3,4,6]\n",
    "numbers[:]"
   ]
  },
  {
   "cell_type": "code",
   "execution_count": 40,
   "metadata": {},
   "outputs": [
    {
     "name": "stdout",
     "output_type": "stream",
     "text": [
      "5\n",
      "1 2 3 4 \n",
      "4 5 6 7 \n",
      "6 7 8 9 \n"
     ]
    }
   ],
   "source": [
    "matrix=[\n",
    "    [1,2,3,4],\n",
    "    [4,5,6,7],\n",
    "    [6,7,8,9]\n",
    "]\n",
    "\n",
    "print(matrix[1][1])\n",
    "\n",
    "for row in matrix:\n",
    "    for col in row:\n",
    "        print(col,end=\" \")\n",
    "    print()"
   ]
  },
  {
   "cell_type": "code",
   "execution_count": 42,
   "metadata": {},
   "outputs": [
    {
     "name": "stdout",
     "output_type": "stream",
     "text": [
      "1 2 3\n"
     ]
    }
   ],
   "source": [
    "coordinates=(1,2,3)\n",
    "#x=coordinates[0]\n",
    "#y=coordinates[1]\n",
    "#z=coordinates[2]\n",
    "\n",
    "x,y,z=coordinates # this is unpacking\n",
    "print(x,y,z)"
   ]
  },
  {
   "cell_type": "code",
   "execution_count": 46,
   "metadata": {},
   "outputs": [
    {
     "name": "stdout",
     "output_type": "stream",
     "text": [
      "2 3 45 6 778 8\n"
     ]
    }
   ],
   "source": [
    "#unpacking the list\n",
    "list=[2,3,45,6,778,8]\n",
    "i,j,k,x,y,z=list[:]\n",
    "print(i,j,k,x,y,z)"
   ]
  },
  {
   "cell_type": "code",
   "execution_count": 64,
   "metadata": {},
   "outputs": [
    {
     "name": "stdout",
     "output_type": "stream",
     "text": [
      "[1, 2, 3, 4, 5, 6, 7, 8, 9]\n"
     ]
    }
   ],
   "source": [
    "list=[1,2,3,4,5,6,7,8,9,2,3,5,7]\n",
    "result=[]\n",
    "for i in list:\n",
    "    if i not in result:\n",
    "        result.append(i) #unique numbers separating\n",
    "print(result)"
   ]
  },
  {
   "cell_type": "code",
   "execution_count": 74,
   "metadata": {},
   "outputs": [
    {
     "name": "stdout",
     "output_type": "stream",
     "text": [
      "Ai developer\n",
      "5 december,1997\n",
      "{'name': 'nayeem', 'age': 25, 'sex': 'male', 'profession': 'Ai developer', 'best': 'Programmer', 'Expert': 'Ai Engineering'}\n",
      "{'name': 'Mh nayeem', 'age': 25, 'sex': 'male', 'profession': 'Ai developer', 'best': 'Programmer', 'Expert': 'Ai Engineering'}\n"
     ]
    }
   ],
   "source": [
    "#dictionary in python\n",
    "\n",
    "customer={\n",
    "    'name':'nayeem',\n",
    "    'age':25,\n",
    "    'sex':'male',\n",
    "    'profession':'Ai developer',\n",
    "    'best':'Programmer',\n",
    "    'Expert':'Ai Engineering'\n",
    "}\n",
    "print(customer[\"profession\"])\n",
    "print(customer.get('birth_date','5 december,1997'))\n",
    "print(customer)\n",
    "customer['name']='Mh nayeem'\n",
    "\n",
    "print(customer)\n",
    "#dictionaries are mutable like list\n",
    "\n"
   ]
  },
  {
   "cell_type": "code",
   "execution_count": 2,
   "metadata": {},
   "outputs": [
    {
     "name": "stdout",
     "output_type": "stream",
     "text": [
      "Input your phone number : 10\n",
      "hELLO\n"
     ]
    }
   ],
   "source": [
    "phone_number=int(input(\"Input your phone number : \"))\n",
    "print(\"hello\")"
   ]
  },
  {
   "cell_type": "markdown",
   "metadata": {},
   "source": [
    "### Fuctions in python"
   ]
  },
  {
   "cell_type": "code",
   "execution_count": 9,
   "metadata": {},
   "outputs": [
    {
     "name": "stdout",
     "output_type": "stream",
     "text": [
      "Your first name : nayeem\n",
      "Your last name : mh\n",
      "Hi nayeem mh !\n",
      "Welcome to this course\n",
      "Thank you for joining us\n"
     ]
    }
   ],
   "source": [
    "def user(first_name,last_name):\n",
    "    print(f\"Hi {first_name} {last_name} !\\nWelcome to this course\")\n",
    "    \n",
    "\n",
    "firstname=input(\"Your first name : \")\n",
    "lastname=input(\"Your last name : \")\n",
    "\n",
    "user(firstname,lastname)\n",
    "print(\"Thank you for joining us !\")"
   ]
  },
  {
   "cell_type": "code",
   "execution_count": 8,
   "metadata": {},
   "outputs": [
    {
     "name": "stdout",
     "output_type": "stream",
     "text": [
      "Hello there\n"
     ]
    }
   ],
   "source": [
    "print(\"Hello there\")"
   ]
  },
  {
   "cell_type": "code",
   "execution_count": 10,
   "metadata": {},
   "outputs": [
    {
     "name": "stdout",
     "output_type": "stream",
     "text": [
      "Hi there ! mahmudul hasan nayeem,\n",
      "Welcome to this course !\n",
      "thanks for joining us !\n"
     ]
    }
   ],
   "source": [
    "def user(name1,name2):\n",
    "    print(f\"Hi there ! {name1} {name2},\\nWelcome to this course !\")\n",
    "\n",
    "user(\"mahmudul hasan\",\"nayeem\")\n",
    "print(\"thanks for joining us !\")"
   ]
  },
  {
   "cell_type": "code",
   "execution_count": 14,
   "metadata": {},
   "outputs": [
    {
     "name": "stdout",
     "output_type": "stream",
     "text": [
      "Enter any number to get square : 3\n",
      "9.0\n"
     ]
    }
   ],
   "source": [
    "def square(num):\n",
    "    return num*num\n",
    "\n",
    "num=float(input(\"Enter any number to get square : \"))\n",
    "result=square(num)\n",
    "print(result)"
   ]
  },
  {
   "cell_type": "code",
   "execution_count": 21,
   "metadata": {},
   "outputs": [
    {
     "name": "stdout",
     "output_type": "stream",
     "text": [
      "Age : 55.5\n",
      "Age is :  55.5\n"
     ]
    }
   ],
   "source": [
    "try:\n",
    "    age =float(input(\"Age : \"))\n",
    "    print(\"Age is : \",age)\n",
    "    \n",
    "except ValueError:\n",
    "    print('Invalid Value,please enter  valid number values')\n",
    "    "
   ]
  },
  {
   "cell_type": "code",
   "execution_count": 26,
   "metadata": {},
   "outputs": [
    {
     "name": "stdout",
     "output_type": "stream",
     "text": [
      "Input your base salary : 30000.00\n",
      "Invalid Value\n"
     ]
    }
   ],
   "source": [
    "try:\n",
    "    base=int(input(\"Input your base salary : \"))\n",
    "    divide=int(input(\"Divide by : \"))\n",
    "    final=base/divide\n",
    "    print(final)\n",
    "\n",
    "except ZeroDivisionError:\n",
    "    print(\"divide by can't b zero\")\n",
    "    \n",
    "except ValueError:\n",
    "    print(\"Invalid Value\")\n",
    "    "
   ]
  },
  {
   "cell_type": "markdown",
   "metadata": {},
   "source": [
    "### Class"
   ]
  },
  {
   "cell_type": "code",
   "execution_count": 32,
   "metadata": {},
   "outputs": [
    {
     "name": "stdout",
     "output_type": "stream",
     "text": [
      "20\n",
      "DRAW\n",
      "40\n",
      "MOVE\n"
     ]
    }
   ],
   "source": [
    "class Point:\n",
    "    def move(self):\n",
    "        print(\"MOVE\")\n",
    "    def draw(self):\n",
    "        print('DRAW')\n",
    "\n",
    "\n",
    "point1=Point()\n",
    "point1.x=20\n",
    "point1.y=30\n",
    "print(point1.x)\n",
    "point1.draw()\n",
    "\n",
    "point2=Point()\n",
    "point2.z=40\n",
    "print(point2.z)\n",
    "point2.move()"
   ]
  },
  {
   "cell_type": "code",
   "execution_count": 40,
   "metadata": {},
   "outputs": [
    {
     "name": "stdout",
     "output_type": "stream",
     "text": [
      "11\n"
     ]
    }
   ],
   "source": [
    "class Point:\n",
    "    def __init__(self,x,y):\n",
    "        self.x=x\n",
    "        self.y=y\n",
    "    def move(self):\n",
    "        print(\"MOVE\")\n",
    "    def Run(self):\n",
    "        print(\"RUN\")\n",
    "   \n",
    "        \n",
    "\n",
    "obj=Point(10,40)\n",
    "obj.x=11\n",
    "print(obj.x)\n"
   ]
  },
  {
   "cell_type": "code",
   "execution_count": 62,
   "metadata": {},
   "outputs": [
    {
     "name": "stdout",
     "output_type": "stream",
     "text": [
      "Hi i am nayeem \n",
      "Hi i am Subna \n",
      "Hi i am Nishpa \n",
      "Hi i am Ohi \n"
     ]
    }
   ],
   "source": [
    "class Person:\n",
    "    def __init__(self,name,age):\n",
    "        self.name=name\n",
    "        self.age=age\n",
    "    def talk(self):\n",
    "        print(f\"Hi i am {self.name} \")\n",
    "\n",
    "        \n",
    "        \n",
    "person1=Person(\"nayeem\",25)\n",
    "person2=Person(\"Subna\",22)\n",
    "person3=Person(\"Nishpa\",4)\n",
    "person4=Person(\"Ohi\",1.5) \n",
    "\n",
    "person1.talk()\n",
    "person2.talk()\n",
    "person3.talk()\n",
    "person4.talk()"
   ]
  },
  {
   "cell_type": "code",
   "execution_count": 70,
   "metadata": {},
   "outputs": [
    {
     "name": "stdout",
     "output_type": "stream",
     "text": [
      "Hi i am Jack turner.And i am nayeem's DOG\n",
      "Hi i am sibili cowl.And i am nayeem's DOG\n"
     ]
    }
   ],
   "source": [
    "#inheritance in python\n",
    "\n",
    "class Dog:\n",
    "    def introduce(self):\n",
    "        print(f\"Hi i am {self.name} {self.name2}.And i am nayeem's DOG\")\n",
    "    def __init__(self,n,m):\n",
    "        self.name=n\n",
    "        self.name=m\n",
    "                \n",
    "mydog1=Dog(\"Jack\",\"turner\")\n",
    "mydog1.introduce()  \n",
    "\n",
    "mydog2=Dog(\"sibili\",\"cowl\")\n",
    "mydog2.introduce()"
   ]
  },
  {
   "cell_type": "code",
   "execution_count": 79,
   "metadata": {},
   "outputs": [
    {
     "name": "stdout",
     "output_type": "stream",
     "text": [
      "Walk in variations\n",
      "BARK\n",
      "MEAO\n"
     ]
    }
   ],
   "source": [
    "class Animal:\n",
    "    def walk(self):\n",
    "        print(\"Walk in variations\")\n",
    "    \n",
    "class Dog(Animal):\n",
    "            def bark(self):\n",
    "              print(\"BARK\")\n",
    "    \n",
    "    \n",
    "class Cat(Animal):\n",
    "        def sound(self):\n",
    "            print(\"MEAO\")\n",
    "            \n",
    "\n",
    "        \n",
    "dog= Dog()\n",
    "dog.walk()\n",
    "dog.bark()\n",
    "cat=Cat()\n",
    "cat.sound()"
   ]
  },
  {
   "cell_type": "code",
   "execution_count": 2,
   "metadata": {},
   "outputs": [
    {
     "name": "stdout",
     "output_type": "stream",
     "text": [
      "10\n"
     ]
    }
   ],
   "source": [
    "number=[10,2,4,5,10]\n",
    "max=number[0]\n",
    "for n in number:\n",
    "    if n>max:\n",
    "        max=n\n",
    "print(max)"
   ]
  },
  {
   "cell_type": "code",
   "execution_count": 18,
   "metadata": {},
   "outputs": [
    {
     "name": "stdout",
     "output_type": "stream",
     "text": [
      "nayeem\n"
     ]
    }
   ],
   "source": [
    "import random\n",
    "\n",
    "members=['nayeem','nishpa','ohi','subna','sohel']\n",
    "leader=random.choice(members)\n",
    "print(leader)"
   ]
  },
  {
   "cell_type": "code",
   "execution_count": null,
   "metadata": {},
   "outputs": [],
   "source": []
  },
  {
   "cell_type": "code",
   "execution_count": null,
   "metadata": {},
   "outputs": [],
   "source": []
  }
 ],
 "metadata": {
  "kernelspec": {
   "display_name": "Python 3",
   "language": "python",
   "name": "python3"
  },
  "language_info": {
   "codemirror_mode": {
    "name": "ipython",
    "version": 3
   },
   "file_extension": ".py",
   "mimetype": "text/x-python",
   "name": "python",
   "nbconvert_exporter": "python",
   "pygments_lexer": "ipython3",
   "version": "3.7.1"
  }
 },
 "nbformat": 4,
 "nbformat_minor": 2
}
