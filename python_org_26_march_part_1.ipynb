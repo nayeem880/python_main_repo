{
 "cells": [
  {
   "cell_type": "markdown",
   "metadata": {},
   "source": [
    "### python.org 26 march coding demos of Data structure 2nd part"
   ]
  },
  {
   "cell_type": "code",
   "execution_count": 1,
   "metadata": {},
   "outputs": [
    {
     "name": "stdout",
     "output_type": "stream",
     "text": [
      "Hello world ! it's data structure\n"
     ]
    }
   ],
   "source": [
    "print(\"Hello world ! it's data structure\")"
   ]
  },
  {
   "cell_type": "code",
   "execution_count": 12,
   "metadata": {},
   "outputs": [
    {
     "name": "stdout",
     "output_type": "stream",
     "text": [
      "['nayemm', 'ohi', 'nishpa', 'subna', 'lija', 'sohel', 'nijhum']\n",
      "['ohi', 'nishpa', 'subna', 'lija', 'sohel', 'nijhum']\n",
      "['ohi', 'nishpa', 'sohel', 'nijhum']\n",
      "[]\n",
      "['nijhum', 'sohel', 'lija', 'subna', 'nishpa', 'ohi', 'nayemm']\n",
      "[]\n"
     ]
    }
   ],
   "source": [
    "##the del statement\n",
    "list =[\"nayemm\",'ohi','nishpa','subna','lija','sohel','nijhum']\n",
    "print(list)\n",
    "del list[0]\n",
    "print(list)\n",
    "del list[2:4]\n",
    "print(list)\n",
    "del list[:]\n",
    "print(list)\n",
    "list1=['nayemm','ohi','nishpa','subna','lija','sohel','nijhum']\n",
    "list1.reverse()\n",
    "print(list1)\n",
    "del list1[:]\n",
    "print(list1)\n",
    "num='nayemm'\n",
    "del num\n",
    "#print(num) here this can't be printed.cause the \"del num\" already been deleted\n",
    "#the whole variable entirely.so there is no \"num\" variable anymore"
   ]
  },
  {
   "cell_type": "code",
   "execution_count": 20,
   "metadata": {},
   "outputs": [
    {
     "name": "stdout",
     "output_type": "stream",
     "text": [
      "(22, 33, 44, 55, 66, 77, 'hello !')\n",
      "44\n",
      "[(22, 33, 44, 55, 66, 77, 'hello !'), 'nayeem', 'nushpa', 'ohi']\n",
      "((1, 2, 3), (4, 5, 6))\n"
     ]
    }
   ],
   "source": [
    "#A tuple consists of a number of values separated by commas, for instance:\n",
    "\n",
    "tup=(22,33,44,55,66,77,\"hello !\")\n",
    "print(tup)\n",
    "print(tup[2])\n",
    "#tuples may b nested \n",
    "tupp= [tup,\"nayeem\",'nushpa','ohi'] ##first or 3rd bracket doesn't matter here\n",
    "print(tupp)\n",
    "\n",
    "#tuples are immutable.that eans any indexed item can't be changed\n",
    "#but they contain mutable objects\n",
    "v=((1,2,3),(4,5,6))\n",
    "print(v)\n"
   ]
  },
  {
   "cell_type": "code",
   "execution_count": 25,
   "metadata": {},
   "outputs": [
    {
     "name": "stdout",
     "output_type": "stream",
     "text": [
      "0\n",
      "1\n",
      "('hello',)\n"
     ]
    }
   ],
   "source": [
    "#empty and singleton tuples\n",
    "\n",
    "empty=()\n",
    "print(len(empty))\n",
    "single='hello', #without \"comma\" this will be a variable.not a tuples.\n",
    "#Here is the difference\n",
    "print(len(single))\n",
    "print(single)"
   ]
  },
  {
   "cell_type": "code",
   "execution_count": 32,
   "metadata": {},
   "outputs": [],
   "source": [
    "#reverse operation\n",
    "#tuple unpacking\n"
   ]
  },
  {
   "cell_type": "code",
   "execution_count": 46,
   "metadata": {},
   "outputs": [
    {
     "name": "stdout",
     "output_type": "stream",
     "text": [
      "{'apple', 'pear', 'jackfruit', 'banana', 'guava', 'strawberry', 'orange'}\n",
      "{'apple', 'pear', 'jackfruit', 'banana', 'guava', 'strawberry', 'orange'}\n",
      "True\n"
     ]
    }
   ],
   "source": [
    "#set\n",
    "#A set is an unordered collection with no duplicate elements\n",
    "#Basic uses include membership testing and eliminating duplicate entries. \n",
    "#Set objects also support mathematical operations like union, intersection,\n",
    "#difference, and symmetric difference.\n",
    "#Curly braces or the set() function can be used to create sets. Note: to create\n",
    "#an empty set you have to use set(), not {}; the latter creates an empty \n",
    "#dictionary, a data structure that we discuss in the next section.va\n",
    "\n",
    "basket={'apple','banana','guava','pear','orange','strawberry','jackfruit'}\n",
    "print(basket)\n",
    "\n",
    "basket={'apple','banana','apple','orange','guava','pear','orange','strawberry','jackfruit'}\n",
    "print(basket) #duplicate has been removed\n",
    "\n",
    "#fast membership testing\n",
    "if 'orange' in basket:\n",
    "    print(\"True\")\n",
    "else : \n",
    "    print(\"False\")\n"
   ]
  },
  {
   "cell_type": "code",
   "execution_count": 52,
   "metadata": {},
   "outputs": [
    {
     "name": "stdout",
     "output_type": "stream",
     "text": [
      "{'c', 's', 'b', 'l', 'a', 'k', 'n'}\n",
      "{'s', 'b', 'l', 't', 'u', 'a', 'n', 'i'}\n",
      "{'c', 'k'}\n",
      "{'c', 's', 'b', 'l', 't', 'u', 'a', 'k', 'n', 'i'}\n",
      "{'s', 'b', 'l', 'a', 'n'}\n",
      "{'c', 't', 'u', 'k', 'i'}\n"
     ]
    }
   ],
   "source": [
    "#demonstrate set operations on unique letters from two words\n",
    "\n",
    "a=set(\"casablanka\")\n",
    "b=set(\"istanbul\")\n",
    "print(a)\n",
    "print(b)\n",
    "print(a-b) # letters in a but not in b\n",
    "print(a|b) # letters in a or b or both\n",
    "print(a&b) # letters in both a and b\n",
    "print(a^b) # letters in a or b but not both"
   ]
  },
  {
   "cell_type": "markdown",
   "metadata": {},
   "source": [
    "### Dictionary in python\n",
    "Dictionaries are sometimes found in other languages as “associative memories”or “associative arrays”. Unlike sequences, which are indexed by a range of numbers, dictionaries are indexed by keys, which can be any immutable type; strings and numbers can always be keys. Tuples can be used as keys if they contain only strings, numbers, or tuples; if a tuple contains any mutable object either directly or indirectly, it cannot be used as a key. You can’t use lists as keys, since lists can be modified in place using index assignments, slice assignments, or methods like append() and extend()."
   ]
  },
  {
   "cell_type": "code",
   "execution_count": 71,
   "metadata": {},
   "outputs": [
    {
     "name": "stdout",
     "output_type": "stream",
     "text": [
      "{'nm': 123, 'mn': 321, 'mm': 432, 'nn': 665}\n",
      "{'nm': 123, 'mn': 321, 'mm': 432, 'nn': 665, 'gd': 8757}\n",
      "{'nm': 123, 'mn': 321, 'nn': 665, 'gd': 8757}\n",
      "123\n",
      "['gd', 'mn', 'nm', 'nn']\n"
     ]
    }
   ],
   "source": [
    "tel={'nm':123,'mn':321,'mm':432,'nn':665}\n",
    "print(tel)\n",
    "tel['gd']=8757\n",
    "print(tel)\n",
    "del tel['mm']\n",
    "print(tel)\n",
    "print(tel['nm'])\n",
    "print(sorted(tel))"
   ]
  },
  {
   "cell_type": "code",
   "execution_count": null,
   "metadata": {},
   "outputs": [],
   "source": [
    "#The dict() constructor builds dictionaries directly from sequences\n",
    "#of key-value pairs:\n",
    "dict([('sape', 4139), ('guido', 4127), ('jack', 4098)])\n",
    "{'sape': 4139, 'guido': 4127, 'jack': 4098}"
   ]
  },
  {
   "cell_type": "code",
   "execution_count": 75,
   "metadata": {},
   "outputs": [
    {
     "name": "stdout",
     "output_type": "stream",
     "text": [
      "2 : 4\n",
      "3 : 9\n",
      "4 : 16\n",
      "5 : 25\n",
      "6 : 36\n",
      "{4: 16, 5: 25, 6: 36, 7: 49}\n"
     ]
    }
   ],
   "source": [
    "for x in (2,3,4,5,6):\n",
    "    print(x,\":\",x**2)\n",
    "#same meaning \n",
    "print({x:x**2 for x in (4,5,6,7)})"
   ]
  },
  {
   "cell_type": "code",
   "execution_count": 79,
   "metadata": {},
   "outputs": [
    {
     "name": "stdout",
     "output_type": "stream",
     "text": [
      "{'sape': 4139, 'guido': 4127, 'jack': 4098}\n"
     ]
    }
   ],
   "source": [
    "nm=dict(sape=4139, guido=4127, jack=4098)\n",
    "print(nm)"
   ]
  },
  {
   "cell_type": "code",
   "execution_count": 82,
   "metadata": {},
   "outputs": [
    {
     "name": "stdout",
     "output_type": "stream",
     "text": [
      "john snow steven\n",
      "turing alan turing\n"
     ]
    }
   ],
   "source": [
    "#Looping techniques\n",
    "knights={'john snow':'steven','turing':'alan turing'}\n",
    "for k,v in knights.items():\n",
    "    print(k,v)"
   ]
  },
  {
   "cell_type": "code",
   "execution_count": 83,
   "metadata": {},
   "outputs": [
    {
     "name": "stdout",
     "output_type": "stream",
     "text": [
      "0 tic\n",
      "1 tac\n",
      "2 toe\n"
     ]
    }
   ],
   "source": [
    "#When looping through a sequence, the position index(i) and \n",
    "#corresponding value(v) can be retrieved at the same time using the\n",
    "#enumerate() function.\n",
    "\n",
    "for i,v in enumerate(['tic','tac','toe']):\n",
    "    print(i,v)"
   ]
  },
  {
   "cell_type": "code",
   "execution_count": 85,
   "metadata": {},
   "outputs": [
    {
     "name": "stdout",
     "output_type": "stream",
     "text": [
      "what is your name? it is nayeem.\n",
      "what is your age? it is 22.\n",
      "what is your colour? it is white.\n",
      "what is your height? it is 5.7.\n"
     ]
    }
   ],
   "source": [
    "#To loop over two or more sequences at the same time, \n",
    "#the entries can be paired with the zip() function.\n",
    "\n",
    "questions=['name','age','colour','height']\n",
    "answers= ['nayeem','22','white','5.7']\n",
    "for q ,a in zip(questions,answers):\n",
    "    print('what is your {0}? it is {1}.'.format(q,a))"
   ]
  },
  {
   "cell_type": "code",
   "execution_count": 88,
   "metadata": {},
   "outputs": [
    {
     "name": "stdout",
     "output_type": "stream",
     "text": [
      "17\n",
      "14\n",
      "11\n",
      "8\n",
      "5\n",
      "2\n"
     ]
    }
   ],
   "source": [
    "for i in reversed(range(2,20,3)):\n",
    "    print(i)"
   ]
  },
  {
   "cell_type": "code",
   "execution_count": 89,
   "metadata": {},
   "outputs": [
    {
     "name": "stdout",
     "output_type": "stream",
     "text": [
      "apple\n",
      "banana\n",
      "orange\n",
      "pear\n"
     ]
    }
   ],
   "source": [
    "basket = ['apple', 'orange', 'apple', 'pear', 'orange', 'banana']\n",
    "for f in sorted(set(basket)):\n",
    "    print(f)"
   ]
  },
  {
   "cell_type": "code",
   "execution_count": 90,
   "metadata": {},
   "outputs": [
    {
     "name": "stdout",
     "output_type": "stream",
     "text": [
      "[56.2, 51.7, 55, 3, 52.5, 47.8]\n"
     ]
    }
   ],
   "source": [
    "import math\n",
    "raw_data=[56.2,float('NaN'),51.7,55,3,52.5,float('NaN'),47.8]\n",
    "filtered_data=[]\n",
    "for value in raw_data:\n",
    "    if not math.isnan(value):\n",
    "        filtered_data.append(value)\n",
    "print(filtered_data)"
   ]
  },
  {
   "cell_type": "markdown",
   "metadata": {},
   "source": [
    "### Module in python\n",
    "A module is a file containing Python definitions and statements. The file name is the module name with the suffix .py appended. Within a module, the module’s name (as a string) is available as the value of the global variable __name__. For instance, use your favorite text editor to create a file called fibo.py in the current directory with the following contents :"
   ]
  },
  {
   "cell_type": "code",
   "execution_count": 99,
   "metadata": {},
   "outputs": [
    {
     "name": "stdout",
     "output_type": "stream",
     "text": [
      "Enter your number to get the fibonacci number : 1000\n",
      "0  \n",
      "1  \n",
      "1  \n",
      "2  \n",
      "3  \n",
      "5  \n",
      "8  \n",
      "13  \n",
      "21  \n",
      "34  \n",
      "55  \n",
      "89  \n",
      "144  \n",
      "233  \n",
      "377  \n",
      "610  \n",
      "987  \n",
      "\n",
      "None\n"
     ]
    }
   ],
   "source": [
    "def fun(n):\n",
    "    a,b=0,1\n",
    "    while a<n:\n",
    "        print(a,\" \")\n",
    "        a,b=b,a+b\n",
    "    print()\n",
    "nn=int(input('Enter your number to get the fibonacci number : '))\n",
    "print(fun(nn))"
   ]
  },
  {
   "cell_type": "code",
   "execution_count": 104,
   "metadata": {},
   "outputs": [
    {
     "name": "stdout",
     "output_type": "stream",
     "text": [
      "Enter your number : 100\n",
      "0  \n",
      "1  \n",
      "1  \n",
      "2  \n",
      "3  \n",
      "5  \n",
      "8  \n",
      "13  \n",
      "21  \n",
      "34  \n",
      "55  \n",
      "89  \n",
      "\n",
      "None\n"
     ]
    }
   ],
   "source": [
    "def funn(n1):\n",
    "    result=[]\n",
    "    a,b=0,1\n",
    "    while a<n1:\n",
    "        result.append(a)\n",
    "        a=b\n",
    "        b=a+b\n",
    "n1=int(input(\"Enter your number : \"))  \n",
    "fun(n1)\n",
    "print(result)"
   ]
  },
  {
   "cell_type": "markdown",
   "metadata": {},
   "source": [
    "For efficiency reasons, each module is only imported once per interpreter session. Therefore, if you change your modules, you must restart the interpreter – or, if it’s just one module you want to test interactively, use importlib.reload(), e.g. import importlib; importlib.reload(modulename). \n"
   ]
  },
  {
   "cell_type": "code",
   "execution_count": null,
   "metadata": {},
   "outputs": [],
   "source": []
  }
 ],
 "metadata": {
  "kernelspec": {
   "display_name": "Python 3",
   "language": "python",
   "name": "python3"
  },
  "language_info": {
   "codemirror_mode": {
    "name": "ipython",
    "version": 3
   },
   "file_extension": ".py",
   "mimetype": "text/x-python",
   "name": "python",
   "nbconvert_exporter": "python",
   "pygments_lexer": "ipython3",
   "version": "3.7.1"
  }
 },
 "nbformat": 4,
 "nbformat_minor": 2
}
